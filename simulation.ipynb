{
 "cells": [
  {
   "cell_type": "markdown",
   "metadata": {},
   "source": [
    "# Exercise"
   ]
  },
  {
   "cell_type": "code",
   "execution_count": 1,
   "metadata": {},
   "outputs": [
    {
     "data": {
      "text/plain": [
       "0.1672"
      ]
     },
     "execution_count": 1,
     "metadata": {},
     "output_type": "execute_result"
    }
   ],
   "source": [
    "import numpy as np\n",
    "\n",
    "# 1. How likely is it that you roll doubles when rolling two dice?\n",
    "\n",
    "n_simulations = 10_000\n",
    "\n",
    "dice_rolls = np.random.randint(1, 7, size=(n_simulations, 2))\n",
    "\n",
    "# Create a boolean mask. Use a slice to select column 1, and column 2 separately. If they match, True.\n",
    "n_doubles = np.sum(dice_rolls[:, 0] == dice_rolls[:, 1])\n",
    "\n",
    "p_doubles = n_doubles / n_simulations\n",
    "\n",
    "p_doubles"
   ]
  },
  {
   "cell_type": "code",
   "execution_count": 2,
   "metadata": {},
   "outputs": [
    {
     "data": {
      "text/plain": [
       "(10000, 8)"
      ]
     },
     "execution_count": 2,
     "metadata": {},
     "output_type": "execute_result"
    }
   ],
   "source": [
    "# 2. If you flip 8 coins, what is the probability of getting exactly 3 heads? What is the probability of getting more than 3 heads?\n",
    "\n",
    "# Generate variables\n",
    "n_sims = 10_000\n",
    "coins = 8\n",
    "outcomes = ['H','T']\n",
    "coin_flip = np.random.choice(outcomes, size=(n_sims, coins))\n",
    "\n",
    "# Check shape to ensure 10k rolls and 8 coins\n",
    "coin_flip.shape"
   ]
  },
  {
   "cell_type": "code",
   "execution_count": 3,
   "metadata": {},
   "outputs": [
    {
     "data": {
      "text/plain": [
       "0.2245"
      ]
     },
     "execution_count": 3,
     "metadata": {},
     "output_type": "execute_result"
    }
   ],
   "source": [
    "# Probability of 3 heads?\n",
    "\n",
    "# If the row adds up to 3 exactly 3, we have 3 heads.\n",
    "((coin_flip == 'H').sum(axis=1) == 3).sum() / n_sims"
   ]
  },
  {
   "cell_type": "code",
   "execution_count": 4,
   "metadata": {},
   "outputs": [
    {
     "data": {
      "text/plain": [
       "0.6341"
      ]
     },
     "execution_count": 4,
     "metadata": {},
     "output_type": "execute_result"
    }
   ],
   "source": [
    "# Probability of more than 3 heads?\n",
    "\n",
    "# If the row adds up to more than 3, we have more than 3 Trues with our boolean mask.\n",
    "((coin_flip == 'H').sum(axis=1) > 3).sum() / n_sims"
   ]
  },
  {
   "cell_type": "code",
   "execution_count": 19,
   "metadata": {},
   "outputs": [
    {
     "data": {
      "text/plain": [
       "0.06126"
      ]
     },
     "execution_count": 19,
     "metadata": {},
     "output_type": "execute_result"
    }
   ],
   "source": [
    "# 3. There are approximitely 3 web development cohorts for every 1 data science cohort at Codeup.\n",
    "# Assuming that Codeup randomly selects an alumni to put on a billboard, what are the odds that \n",
    "# the two billboards I drive past both have data science students on them?\n",
    "\n",
    "n_simulations = 100000\n",
    "\n",
    "# Simulate selecting alumni for two billboards\n",
    "billboards = np.random.choice(['web', 'web', 'web', 'data'], (n_simulations, 2))\n",
    "\n",
    "# Calculate the number of times both billboards have data science students on them\n",
    "n_data = np.sum((billboards == 'data').all(axis=1))\n",
    "\n",
    "p_data = n_data / n_simulations\n",
    "\n",
    "p_data"
   ]
  },
  {
   "cell_type": "code",
   "execution_count": 6,
   "metadata": {},
   "outputs": [
    {
     "data": {
      "text/plain": [
       "0.61609"
      ]
     },
     "execution_count": 6,
     "metadata": {},
     "output_type": "execute_result"
    }
   ],
   "source": [
    "# 4. Codeup students buy, on average, 3 poptart packages with a \n",
    "# standard deviation of 1.5 a day from the snack vending machine. \n",
    "# If on monday the machine is restocked with 17 poptart packages,\n",
    "# how likely is it that I will be able to buy some poptarts on \n",
    "# Friday afternoon? \n",
    "\n",
    "# (Remember, if you have mean and standard deviation,\n",
    "# use the np.random.normal) You'll need to make a judgement call on how to handle some of your values.\n",
    "\n",
    "n_simulations = 100_000\n",
    "\n",
    "# Simulate the number of poptart packages sold each day\n",
    "mu = mean = 3\n",
    "sigma = std_dev = 1.5\n",
    "days_in_a_week = 5\n",
    "\n",
    "packages_sold = np.random.normal(mu, sigma, (n_simulations, days_in_a_week))\n",
    "\n",
    "# Calculate the total number of poptart packages sold during the week\n",
    "total_sold = np.sum(packages_sold, axis=1)\n",
    "\n",
    "# Calculate the probability of being able to buy some poptarts on Friday afternoon, assuming this Monday we started with 17.\n",
    "p_buy = np.mean(total_sold <= 16)\n",
    "\n",
    "p_buy"
   ]
  },
  {
   "cell_type": "code",
   "execution_count": 14,
   "metadata": {},
   "outputs": [],
   "source": [
    "# 5. Compare Heights\n",
    "\n",
    "# 5a. Men have an average height of 178 cm and standard deviation of 8cm.\n",
    "# 5b. Women have a mean of 170, sd = 6cm.\n",
    "\n",
    "# 5c. Since you have means and standard deviations, you can use np.random.normal to generate observations.\n",
    "\n",
    "# Initialize variables\n",
    "n_sims = 10_000\n",
    "m_mean, m_sd = 178, 8\n",
    "f_mean, f_sd = 170, 6\n",
    "\n",
    "# Generate the two separate columns\n",
    "male_heights = np.random.normal(m_mean, m_sd, (n_sims, 1))\n",
    "female_heights = np.random.normal(f_mean, f_sd, (n_sims, 1))"
   ]
  },
  {
   "cell_type": "code",
   "execution_count": 23,
   "metadata": {},
   "outputs": [
    {
     "data": {
      "text/plain": [
       "0.2121"
      ]
     },
     "execution_count": 23,
     "metadata": {},
     "output_type": "execute_result"
    }
   ],
   "source": [
    "# 5d. If a man and woman are chosen at random, what is the likelihood the woman is taller than the man?\n",
    "\n",
    "# USING BOOLEAN MASK\n",
    "\n",
    "both_heights = np.hstack((female_heights, male_heights))\n",
    "\n",
    "female_taller_mask = np.sum(both_heights[:, 0] > both_heights[:, 1])\n",
    "\n",
    "female_taller_mask.mean() / n_sims"
   ]
  },
  {
   "cell_type": "code",
   "execution_count": 17,
   "metadata": {},
   "outputs": [
    {
     "data": {
      "text/plain": [
       "0.2121"
      ]
     },
     "execution_count": 17,
     "metadata": {},
     "output_type": "execute_result"
    }
   ],
   "source": [
    "# 5d. If a man and woman are chosen at random, what is the likelihood the woman is taller than the man?\n",
    "\n",
    "# USING A FOR LOOP\n",
    "\n",
    "count = 0\n",
    "\n",
    "for i in range(n_sims):\n",
    "    if female_heights[i, 0] > male_heights[i, 0]:\n",
    "        count += 1\n",
    "      \n",
    "likelihood = count / n_sims\n",
    "\n",
    "likelihood"
   ]
  },
  {
   "cell_type": "code",
   "execution_count": 24,
   "metadata": {},
   "outputs": [
    {
     "data": {
      "text/plain": [
       "81.84024506760997"
      ]
     },
     "execution_count": 24,
     "metadata": {},
     "output_type": "execute_result"
    }
   ],
   "source": [
    "# 6. When installing anaconda on a student's computer, there's a 1 in 250 chance that the download is corrupted and the installation fails.\n",
    "# What are the odds that after having 50 students download anaconda, no one has an installation issue?\n",
    "\n",
    "from math import pow\n",
    "\n",
    "def calculate_odds(num_students):\n",
    "    probability_success = 1 - (1/250)  # probability of successful installation for each student\n",
    "    probability_no_issue = pow(probability_success, num_students)  # probability that no student has an installation issue\n",
    "    \n",
    "    odds = probability_no_issue * 100  # converting probability to odds\n",
    "    \n",
    "    return odds\n",
    "\n",
    "num_students = 50\n",
    "odds = calculate_odds(num_students)\n",
    "\n",
    "odds\n"
   ]
  },
  {
   "cell_type": "code",
   "execution_count": 25,
   "metadata": {},
   "outputs": [
    {
     "data": {
      "text/plain": [
       "66.97825712726458"
      ]
     },
     "execution_count": 25,
     "metadata": {},
     "output_type": "execute_result"
    }
   ],
   "source": [
    "# 6a. 100 students?\n",
    "\n",
    "calculate_odds(100)"
   ]
  },
  {
   "cell_type": "code",
   "execution_count": 26,
   "metadata": {},
   "outputs": [
    {
     "data": {
      "text/plain": [
       "54.81516977496729"
      ]
     },
     "execution_count": 26,
     "metadata": {},
     "output_type": "execute_result"
    }
   ],
   "source": [
    "# 6b. What is the probability that we observe an installation issue within the first 150 students that download anaconda?\n",
    "\n",
    "calculate_odds(150)"
   ]
  },
  {
   "cell_type": "code",
   "execution_count": 27,
   "metadata": {},
   "outputs": [
    {
     "data": {
      "text/plain": [
       "16.47032961586129"
      ]
     },
     "execution_count": 27,
     "metadata": {},
     "output_type": "execute_result"
    }
   ],
   "source": [
    "# 6c. How likely is it that 450 students all download anaconda without an issue?\n",
    "\n",
    "calculate_odds(450)"
   ]
  },
  {
   "cell_type": "code",
   "execution_count": 28,
   "metadata": {},
   "outputs": [
    {
     "data": {
      "text/plain": [
       "2.101"
      ]
     },
     "execution_count": 28,
     "metadata": {},
     "output_type": "execute_result"
    }
   ],
   "source": [
    "# 7. There's a 70% chance on any given day that there will be at least one food truck at Travis Park.\n",
    "# However, you haven't seen a food truck there in 3 days. How unlikely is this?\n",
    "\n",
    "n = 3\n",
    "p = 0.7\n",
    "n_sims = 10_000\n",
    "\n",
    "np.random.binomial(n, p, n_sims).mean()"
   ]
  },
  {
   "cell_type": "code",
   "execution_count": 29,
   "metadata": {},
   "outputs": [
    {
     "data": {
      "text/plain": [
       "3.4896"
      ]
     },
     "execution_count": 29,
     "metadata": {},
     "output_type": "execute_result"
    }
   ],
   "source": [
    "# 7a. How likely is it that a food truck will show up sometime this week?\n",
    "\n",
    "n = 5\n",
    "p = 0.7\n",
    "\n",
    "np.random.binomial(n, p, n_sims).mean()"
   ]
  },
  {
   "cell_type": "code",
   "execution_count": 31,
   "metadata": {},
   "outputs": [
    {
     "data": {
      "text/plain": [
       "0.5069"
      ]
     },
     "execution_count": 31,
     "metadata": {},
     "output_type": "execute_result"
    }
   ],
   "source": [
    "# 8. If 23 people are in the same room, what are the odds that two of them share a birthday? \n",
    "\n",
    "import numpy as np\n",
    "\n",
    "def birthday_paradox(n_people):\n",
    "    n_simulations = 10_000\n",
    "\n",
    "    count = 0\n",
    "    for n in range(n_simulations):\n",
    "        birthdays = np.random.randint(365, size=n_people)\n",
    "        # Use set() to remove any duplicate values. If the length of the set is shorter than\n",
    "        # the number of people variable, there were duplicates present and the count variable\n",
    "        # will be incremented.\n",
    "        if len(set(birthdays)) < n_people:\n",
    "            count += 1\n",
    "\n",
    "    prob = count / n_simulations\n",
    "    return prob\n",
    "\n",
    "birthday_paradox(23)"
   ]
  },
  {
   "cell_type": "code",
   "execution_count": null,
   "metadata": {},
   "outputs": [
    {
     "name": "stdout",
     "output_type": "stream",
     "text": [
      "0.4044\n"
     ]
    }
   ],
   "source": [
    "# What if it's 20 people? \n",
    "\n",
    "print(birthday_paradox(20))"
   ]
  },
  {
   "cell_type": "code",
   "execution_count": null,
   "metadata": {},
   "outputs": [
    {
     "name": "stdout",
     "output_type": "stream",
     "text": [
      "0.893\n"
     ]
    }
   ],
   "source": [
    "# 40?\n",
    "\n",
    "print(birthday_paradox(40))"
   ]
  },
  {
   "cell_type": "markdown",
   "metadata": {},
   "source": [
    "# Lesson in Class with Notes"
   ]
  },
  {
   "cell_type": "markdown",
   "metadata": {},
   "source": [
    "## Simulation\n",
    "\n",
    "- In this lesson, we will work through several examples of using random numbers to simulate real-world scenarios.\n",
    "- For reference, the [viz module](./viz.py) contains the visuals used for these lessons."
   ]
  },
  {
   "cell_type": "markdown",
   "metadata": {},
   "source": [
    "## Generating Random Numbers with Numpy\n",
    "\n",
    "The `numpy.random` module provides a number of functions for generating random numbers.\n",
    "\n",
    "- `np.random.choice`: selects random options from a list\n",
    "- `np.random.uniform`: generates numbers between a given lower and upper bound\n",
    "- `np.random.random`: generates numbers between 0 and 1\n",
    "- `np.random.randn`: generates numbers from the standard normal distribution\n",
    "- `np.random.normal`: generates numbers from a normal distribution with a specified mean and standard deviation"
   ]
  },
  {
   "cell_type": "markdown",
   "metadata": {},
   "source": [
    "## How to run simulations with numpy/python/pandas"
   ]
  },
  {
   "cell_type": "markdown",
   "metadata": {},
   "source": [
    "### Process\n",
    "1. Represent the data\n",
    "2. Create a matrix of random numbers\n",
    "3. Apply an aggregate row-wise to produce the results of each simulation\n",
    "4. Aggregate the resulting data to get our experimental probability"
   ]
  },
  {
   "cell_type": "code",
   "execution_count": null,
   "metadata": {},
   "outputs": [],
   "source": [
    "import numpy as np"
   ]
  },
  {
   "cell_type": "code",
   "execution_count": null,
   "metadata": {},
   "outputs": [
    {
     "data": {
      "text/plain": [
       "True"
      ]
     },
     "execution_count": 282,
     "metadata": {},
     "output_type": "execute_result"
    }
   ],
   "source": [
    "1 == round((1/6) + (1/6) + (1/6) + (1/6) + (1/6) + (1/6))"
   ]
  },
  {
   "cell_type": "code",
   "execution_count": null,
   "metadata": {},
   "outputs": [
    {
     "data": {
      "text/plain": [
       "1"
      ]
     },
     "execution_count": 283,
     "metadata": {},
     "output_type": "execute_result"
    }
   ],
   "source": [
    "# set of possible outcomes:\n",
    "outcomes = [1, 2, 3, 4, 5, 6]\n",
    "np.random.choice(outcomes)"
   ]
  },
  {
   "cell_type": "markdown",
   "metadata": {},
   "source": [
    "## What's the probaility of rolling a 2 on a 6-sided die?"
   ]
  },
  {
   "cell_type": "markdown",
   "metadata": {},
   "source": [
    "- What is the expected probability?"
   ]
  },
  {
   "cell_type": "markdown",
   "metadata": {},
   "source": [
    "### 1. Represent the data"
   ]
  },
  {
   "cell_type": "markdown",
   "metadata": {
    "tags": []
   },
   "source": [
    "### 2. Create a matrix of random numbers"
   ]
  },
  {
   "cell_type": "code",
   "execution_count": null,
   "metadata": {},
   "outputs": [],
   "source": [
    "# number of trials to simulate die rolls:\n",
    "n_trials = 100\n",
    "# define a array with 100 instances of a random choice on the\n",
    "# outcomes list\n",
    "hundred_rolls = np.random.choice(outcomes, n_trials) "
   ]
  },
  {
   "cell_type": "markdown",
   "metadata": {
    "tags": []
   },
   "source": [
    "\n",
    "### 3. Apply an aggregate row-wise to produce the results of each simulation"
   ]
  },
  {
   "cell_type": "code",
   "execution_count": null,
   "metadata": {},
   "outputs": [
    {
     "data": {
      "text/plain": [
       "16"
      ]
     },
     "execution_count": 285,
     "metadata": {},
     "output_type": "execute_result"
    }
   ],
   "source": [
    "(hundred_rolls == 2).sum()"
   ]
  },
  {
   "cell_type": "markdown",
   "metadata": {},
   "source": [
    "### 4. Aggregate the resulting data to get our experimental probability"
   ]
  },
  {
   "cell_type": "code",
   "execution_count": null,
   "metadata": {},
   "outputs": [
    {
     "data": {
      "text/plain": [
       "0.16"
      ]
     },
     "execution_count": 286,
     "metadata": {},
     "output_type": "execute_result"
    }
   ],
   "source": [
    "(hundred_rolls == 2).sum() / len(hundred_rolls)"
   ]
  },
  {
   "cell_type": "markdown",
   "metadata": {},
   "source": [
    "### Expected Probability"
   ]
  },
  {
   "cell_type": "markdown",
   "metadata": {},
   "source": [
    "### Consolidate & increase trial size"
   ]
  },
  {
   "cell_type": "code",
   "execution_count": null,
   "metadata": {},
   "outputs": [],
   "source": [
    "ten_k_rolls = np.random.choice(outcomes, 10_000)"
   ]
  },
  {
   "cell_type": "code",
   "execution_count": null,
   "metadata": {},
   "outputs": [
    {
     "data": {
      "text/plain": [
       "0.1739"
      ]
     },
     "execution_count": 288,
     "metadata": {},
     "output_type": "execute_result"
    }
   ],
   "source": [
    "(ten_k_rolls == 2).sum() / len(ten_k_rolls)"
   ]
  },
  {
   "cell_type": "markdown",
   "metadata": {},
   "source": [
    "## YAY Completed simulation!"
   ]
  },
  {
   "cell_type": "markdown",
   "metadata": {},
   "source": [
    "- Also known as the monte carlo method"
   ]
  },
  {
   "cell_type": "markdown",
   "metadata": {},
   "source": [
    "## What is the probability that we roll 5 or greater on a die roll? "
   ]
  },
  {
   "cell_type": "markdown",
   "metadata": {},
   "source": [
    "### Expected?"
   ]
  },
  {
   "cell_type": "code",
   "execution_count": null,
   "metadata": {},
   "outputs": [
    {
     "data": {
      "text/plain": [
       "0.3333333333333333"
      ]
     },
     "execution_count": 289,
     "metadata": {},
     "output_type": "execute_result"
    }
   ],
   "source": [
    "(1/6) + (1/6)"
   ]
  },
  {
   "cell_type": "markdown",
   "metadata": {},
   "source": [
    "### Simulate!"
   ]
  },
  {
   "cell_type": "code",
   "execution_count": null,
   "metadata": {},
   "outputs": [
    {
     "data": {
      "text/plain": [
       "0.3333"
      ]
     },
     "execution_count": 290,
     "metadata": {},
     "output_type": "execute_result"
    }
   ],
   "source": [
    "(ten_k_rolls > 4).sum() / len(ten_k_rolls)"
   ]
  },
  {
   "cell_type": "markdown",
   "metadata": {},
   "source": [
    "## What's the probability of getting 2 or more heads after flipping 3 coins?"
   ]
  },
  {
   "cell_type": "markdown",
   "metadata": {},
   "source": [
    "### 1. Represent the data"
   ]
  },
  {
   "cell_type": "code",
   "execution_count": null,
   "metadata": {},
   "outputs": [],
   "source": [
    "# lets create our simulation:\n",
    "# define our outcomes:\n",
    "outcomes = ['H','T']\n",
    "# number of trials will be our columns\n",
    "n_trials = 3\n",
    "# picking a number for our simulations.\n",
    "# the higher the better, but too high may cause the computer\n",
    "# to run a bit longer than we would like\n",
    "n_simulations = 10_000"
   ]
  },
  {
   "cell_type": "code",
   "execution_count": null,
   "metadata": {},
   "outputs": [],
   "source": [
    "# define our simulation\n"
   ]
  },
  {
   "cell_type": "markdown",
   "metadata": {},
   "source": [
    "### 2. Create a matrix of random numbers"
   ]
  },
  {
   "cell_type": "code",
   "execution_count": null,
   "metadata": {},
   "outputs": [],
   "source": [
    "# remember dimensions on np array shapes \n",
    "# rows, columns\n",
    "three_flips = np.random.choice(outcomes, (n_simulations, n_trials))"
   ]
  },
  {
   "cell_type": "code",
   "execution_count": null,
   "metadata": {},
   "outputs": [
    {
     "data": {
      "text/plain": [
       "array([['H', 'H', 'H'],\n",
       "       ['T', 'H', 'H'],\n",
       "       ['H', 'H', 'H'],\n",
       "       ['T', 'T', 'H'],\n",
       "       ['T', 'T', 'T'],\n",
       "       ['H', 'T', 'T'],\n",
       "       ['H', 'T', 'T'],\n",
       "       ['T', 'H', 'H'],\n",
       "       ['H', 'T', 'T'],\n",
       "       ['H', 'T', 'H']], dtype='<U1')"
      ]
     },
     "execution_count": 294,
     "metadata": {},
     "output_type": "execute_result"
    }
   ],
   "source": [
    "three_flips[:10,:]"
   ]
  },
  {
   "cell_type": "markdown",
   "metadata": {},
   "source": [
    "- Here the `(10_000, 3)` tuple tells numpy the shape of the matrix to generate. \n",
    "- Since we are flipping 3 coins we have 3 columns, and we are doing 10_000 simulations, we'll have 20 rows."
   ]
  },
  {
   "cell_type": "markdown",
   "metadata": {},
   "source": [
    "### 3. Apply an aggregate row-wise to produce the results of each simulation"
   ]
  },
  {
   "cell_type": "code",
   "execution_count": null,
   "metadata": {},
   "outputs": [
    {
     "data": {
      "text/plain": [
       "array([3, 2, 3, ..., 1, 1, 3])"
      ]
     },
     "execution_count": 295,
     "metadata": {},
     "output_type": "execute_result"
    }
   ],
   "source": [
    "(three_flips == 'H').sum(axis=1)"
   ]
  },
  {
   "cell_type": "markdown",
   "metadata": {},
   "source": [
    "- Count how many heads there are for each simlution"
   ]
  },
  {
   "cell_type": "markdown",
   "metadata": {},
   "source": [
    "- this 1-d array shows how many heads appeared in each simulations\n",
    "- we want to know how many times we have 2 or more heads, so lets convert that to a boolean array when our head count is 2 or greater"
   ]
  },
  {
   "cell_type": "markdown",
   "metadata": {},
   "source": [
    "### 4. Aggregate the resulting data to get our experimental probability\n",
    "- Here we'll calculate the number of successful trials "
   ]
  },
  {
   "cell_type": "code",
   "execution_count": null,
   "metadata": {},
   "outputs": [
    {
     "data": {
      "text/plain": [
       "0.4985"
      ]
     },
     "execution_count": 296,
     "metadata": {},
     "output_type": "execute_result"
    }
   ],
   "source": [
    "((three_flips == 'H').sum(axis=1) >= 2).sum() / 10_000"
   ]
  },
  {
   "cell_type": "markdown",
   "metadata": {},
   "source": [
    "### Consolidate & increase simulations!"
   ]
  },
  {
   "cell_type": "code",
   "execution_count": null,
   "metadata": {},
   "outputs": [],
   "source": [
    "three_flips = np.random.choice(outcomes, (1_000_000, 3))"
   ]
  },
  {
   "cell_type": "code",
   "execution_count": null,
   "metadata": {},
   "outputs": [
    {
     "data": {
      "text/plain": [
       "array([['H', 'H', 'H'],\n",
       "       ['T', 'T', 'T'],\n",
       "       ['H', 'T', 'H']], dtype='<U1')"
      ]
     },
     "execution_count": 298,
     "metadata": {},
     "output_type": "execute_result"
    }
   ],
   "source": [
    "three_flips[:3, :]"
   ]
  },
  {
   "cell_type": "code",
   "execution_count": null,
   "metadata": {},
   "outputs": [
    {
     "data": {
      "text/plain": [
       "array([['H', 'H', 'H'],\n",
       "       ['T', 'T', 'T'],\n",
       "       ['H', 'T', 'H'],\n",
       "       ...,\n",
       "       ['H', 'T', 'H'],\n",
       "       ['H', 'T', 'T'],\n",
       "       ['H', 'H', 'T']], dtype='<U1')"
      ]
     },
     "execution_count": 299,
     "metadata": {},
     "output_type": "execute_result"
    }
   ],
   "source": [
    "three_flips"
   ]
  },
  {
   "cell_type": "code",
   "execution_count": null,
   "metadata": {},
   "outputs": [
    {
     "data": {
      "text/plain": [
       "1000000"
      ]
     },
     "execution_count": 300,
     "metadata": {},
     "output_type": "execute_result"
    }
   ],
   "source": [
    "len(three_flips)"
   ]
  },
  {
   "cell_type": "code",
   "execution_count": null,
   "metadata": {},
   "outputs": [
    {
     "data": {
      "text/plain": [
       "0.500098"
      ]
     },
     "execution_count": 301,
     "metadata": {},
     "output_type": "execute_result"
    }
   ],
   "source": [
    "((three_flips == 'H').sum(axis=1) >= 2).sum() / len(three_flips)"
   ]
  },
  {
   "cell_type": "markdown",
   "metadata": {},
   "source": [
    "## Carnival Dice Rolls\n",
    "\n",
    "> You are at a carnival and come across a person in a booth offering you a game\n",
    "> of \"chance\" (as people in booths at carnivals tend to do).\n",
    "\n",
    "> You pay 5 dollars and roll 3 dice. If the sum of the dice rolls is greater\n",
    "> than 12, you get 15 dollars. If it's less than or equal to 12, you get\n",
    "> nothing.\n",
    "\n",
    "> Assuming the dice are fair, should you play this game? How would this change\n",
    "> if the winning condition was a sum greater than *or equal to* 12?"
   ]
  },
  {
   "cell_type": "markdown",
   "metadata": {},
   "source": [
    "To simulate this problem, we'll write the python code to simulate the scenario described above, then repeat it a large amount of times."
   ]
  },
  {
   "cell_type": "markdown",
   "metadata": {},
   "source": [
    "### 1. represent our data"
   ]
  },
  {
   "cell_type": "code",
   "execution_count": null,
   "metadata": {},
   "outputs": [],
   "source": [
    "# number of times we want to repeat this experiment\n",
    "n_simulations = 100_000\n",
    "# number of times we roll the dice\n",
    "# the number of columns in our matrix\n",
    "n_trials = 3\n",
    "# outcomes, the list of possible options of things that could happen\n",
    "# in the scope of a die roll\n",
    "outcomes = [1, 2, 3, 4, 5, 6]\n"
   ]
  },
  {
   "cell_type": "markdown",
   "metadata": {},
   "source": [
    "### 2. set up matrix of random numbers"
   ]
  },
  {
   "cell_type": "code",
   "execution_count": null,
   "metadata": {},
   "outputs": [],
   "source": [
    "dice_game = np.random.choice(outcomes, (n_simulations, n_trials))"
   ]
  },
  {
   "cell_type": "markdown",
   "metadata": {},
   "source": [
    "### 3. apply an aggregate row-wise to produce the results of each simulation"
   ]
  },
  {
   "cell_type": "code",
   "execution_count": null,
   "metadata": {},
   "outputs": [
    {
     "data": {
      "text/plain": [
       "array([13,  7, 11, ..., 11,  9,  7])"
      ]
     },
     "execution_count": 304,
     "metadata": {},
     "output_type": "execute_result"
    }
   ],
   "source": [
    "# sum the three trials together\n",
    "dice_game.sum(axis=1)"
   ]
  },
  {
   "cell_type": "markdown",
   "metadata": {},
   "source": [
    "#### Find which simulations \"won\""
   ]
  },
  {
   "cell_type": "code",
   "execution_count": null,
   "metadata": {},
   "outputs": [
    {
     "data": {
      "text/plain": [
       "25927"
      ]
     },
     "execution_count": 305,
     "metadata": {},
     "output_type": "execute_result"
    }
   ],
   "source": [
    "# dice game, summed across three trials]\n",
    "#  checking to see if that sum is greater than 12\n",
    "# and then taking the sum of all of those 100k simulations\n",
    "(dice_game.sum(axis=1) > 12).sum()"
   ]
  },
  {
   "cell_type": "markdown",
   "metadata": {},
   "source": [
    "### 4. aggregate the resulting data to get our experimental probability"
   ]
  },
  {
   "cell_type": "code",
   "execution_count": null,
   "metadata": {},
   "outputs": [
    {
     "data": {
      "text/plain": [
       "0.25927"
      ]
     },
     "execution_count": 306,
     "metadata": {},
     "output_type": "execute_result"
    }
   ],
   "source": [
    "(dice_game.sum(axis=1) > 12).sum() / len(dice_game)"
   ]
  },
  {
   "cell_type": "code",
   "execution_count": null,
   "metadata": {},
   "outputs": [],
   "source": [
    "sum_of_rolls = dice_game.sum(axis=1)"
   ]
  },
  {
   "cell_type": "code",
   "execution_count": null,
   "metadata": {},
   "outputs": [],
   "source": [
    "winning_odds = (sum_of_rolls > 12).mean()"
   ]
  },
  {
   "cell_type": "markdown",
   "metadata": {},
   "source": [
    "### To complete this problem, we can calculate the expected profit from our win rate:"
   ]
  },
  {
   "cell_type": "code",
   "execution_count": null,
   "metadata": {},
   "outputs": [
    {
     "data": {
      "text/plain": [
       "3.88905"
      ]
     },
     "execution_count": 309,
     "metadata": {},
     "output_type": "execute_result"
    }
   ],
   "source": [
    "# playing the game costs $5\n",
    "# winning the game gets $15\n",
    "winning_odds * 15"
   ]
  },
  {
   "cell_type": "code",
   "execution_count": null,
   "metadata": {},
   "outputs": [
    {
     "data": {
      "text/plain": [
       "1.0899999999999999"
      ]
     },
     "execution_count": 310,
     "metadata": {},
     "output_type": "execute_result"
    }
   ],
   "source": [
    "# average gross from playing this game is $3.91\n",
    "# flat cost to play the game is $5.00\n",
    "# which means on average playing this game, you would lose\n",
    "5 - 3.91"
   ]
  },
  {
   "cell_type": "markdown",
   "metadata": {},
   "source": [
    "If our win condition changes to the sum being greater than or equal to 12, then, based on our simulations, on average, we expect to win about 60 cents"
   ]
  },
  {
   "cell_type": "markdown",
   "metadata": {},
   "source": [
    "## No Rest or Relaxation\n",
    "\n",
    "> There's a 30% chance my son takes a nap on any given weekend day. What is the chance that he takes a nap at least one day this weekend? What is the probability that he doesn't nap at all?"
   ]
  },
  {
   "cell_type": "markdown",
   "metadata": {},
   "source": [
    "### 1. represent our data"
   ]
  },
  {
   "cell_type": "code",
   "execution_count": null,
   "metadata": {},
   "outputs": [],
   "source": [
    "# the probability of napping is 30%\n",
    "p_nap = 0.3\n",
    "# number of trials is equivalent to the number of days in the weekend\n",
    "n_days = n_trials = 2\n",
    "# the number of simulations is just a big number that we are choose\n",
    "# in order to approximate the theoretical value\n",
    "n_simulations = 100_000"
   ]
  },
  {
   "cell_type": "markdown",
   "metadata": {},
   "source": [
    "### 2. set up matrix of random numbers"
   ]
  },
  {
   "cell_type": "markdown",
   "metadata": {},
   "source": [
    "To determine whether or not a nap is taken on a given day, we'll generate a random number between 0 and 1, and say that it is a nap if it is less than our probability of taking a nap."
   ]
  },
  {
   "cell_type": "code",
   "execution_count": null,
   "metadata": {},
   "outputs": [],
   "source": [
    "nap_sims = np.random.random((n_simulations, n_days))"
   ]
  },
  {
   "cell_type": "code",
   "execution_count": null,
   "metadata": {},
   "outputs": [
    {
     "name": "stdout",
     "output_type": "stream",
     "text": [
      "\u001b[0;31mDocstring:\u001b[0m\n",
      "random(size=None)\n",
      "\n",
      "Return random floats in the half-open interval [0.0, 1.0). Alias for\n",
      "`random_sample` to ease forward-porting to the new random API.\n",
      "\u001b[0;31mType:\u001b[0m      builtin_function_or_method"
     ]
    }
   ],
   "source": [
    "np.random.random?"
   ]
  },
  {
   "cell_type": "code",
   "execution_count": null,
   "metadata": {},
   "outputs": [
    {
     "data": {
      "text/plain": [
       "array([[0.25664379, 0.80426311],\n",
       "       [0.33907909, 0.68866094],\n",
       "       [0.06791762, 0.75571287],\n",
       "       [0.03904116, 0.87059055],\n",
       "       [0.29058175, 0.0141409 ]])"
      ]
     },
     "execution_count": 314,
     "metadata": {},
     "output_type": "execute_result"
    }
   ],
   "source": [
    "# lets look at the first few rows:\n",
    "nap_sims[:5,:]"
   ]
  },
  {
   "cell_type": "markdown",
   "metadata": {
    "tags": []
   },
   "source": [
    "### 3. apply an aggregate row-wise to produce the results of each simulation"
   ]
  },
  {
   "cell_type": "code",
   "execution_count": null,
   "metadata": {},
   "outputs": [],
   "source": [
    "# we compare these decimals to the probability of napping\n",
    "# because our generated numbers are between 0 and 1 and are decimals,\n",
    "# we know that we have approximately 30% odds\n",
    "# of that number hitting between 0.00 and 0.30\n",
    "# so the times that our generated number\n",
    "# is less than our prob of nap,\n",
    "# represents a successful nap in this situation\n",
    "nap_wins = (nap_sims < p_nap)"
   ]
  },
  {
   "cell_type": "markdown",
   "metadata": {},
   "source": [
    "Now that we have each day as either true or false, we can take the sum of each row to find the total number of naps for the weekend. When we sum an array of boolean values, numpy will treat `True` as 1 and `False` as 0."
   ]
  },
  {
   "cell_type": "markdown",
   "metadata": {},
   "source": [
    "Now we have the results of our simulation, an array where each number in the array represents how many naps were taken in a two day weekend."
   ]
  },
  {
   "cell_type": "markdown",
   "metadata": {},
   "source": [
    "### 4. aggregate the resulting data to get our experimental probability"
   ]
  },
  {
   "cell_type": "code",
   "execution_count": null,
   "metadata": {},
   "outputs": [
    {
     "data": {
      "text/plain": [
       "0.51066"
      ]
     },
     "execution_count": 316,
     "metadata": {},
     "output_type": "execute_result"
    }
   ],
   "source": [
    "(nap_wins.sum(axis=1) > 0).mean()"
   ]
  },
  {
   "cell_type": "code",
   "execution_count": null,
   "metadata": {},
   "outputs": [
    {
     "data": {
      "text/plain": [
       "1.0"
      ]
     },
     "execution_count": 317,
     "metadata": {},
     "output_type": "execute_result"
    }
   ],
   "source": [
    "(nap_wins.sum(axis=1) == 0).mean() + (\n",
    "    nap_wins.sum(axis=1) == 1).mean() + (\n",
    "    nap_wins.sum(axis=1) == 2).mean()"
   ]
  },
  {
   "cell_type": "markdown",
   "metadata": {},
   "source": [
    "We can use this to answer our original questions, what is the probability that at least one nap is taken?"
   ]
  },
  {
   "cell_type": "markdown",
   "metadata": {},
   "source": [
    "What is the probability no naps are taken?"
   ]
  },
  {
   "cell_type": "markdown",
   "metadata": {},
   "source": [
    "## One With Dataframes\n",
    "\n",
    "Let's take a look at one more problem:\n",
    "\n",
    "> What is the probability of getting at least one 3 in 3 dice rolls?\n",
    "\n",
    "To simulate this, we'll use a similar strategy to how we modeled the dice rolls in the previous example, but this time, we'll store the results in a pandas dataframe so that we can apply a lambda function that will check to see if one of the rolls was a 3."
   ]
  },
  {
   "cell_type": "markdown",
   "metadata": {},
   "source": [
    "### 1. represent our data"
   ]
  },
  {
   "cell_type": "code",
   "execution_count": null,
   "metadata": {},
   "outputs": [],
   "source": [
    "outcomes = [1, 2, 3, 4, 5, 6]\n",
    "n_simulations = 100_000\n",
    "n_rolls = n_trials = 3"
   ]
  },
  {
   "cell_type": "markdown",
   "metadata": {},
   "source": [
    "### 2. set up matrix of random numbers"
   ]
  },
  {
   "cell_type": "code",
   "execution_count": null,
   "metadata": {},
   "outputs": [],
   "source": [
    "rolls = np.random.choice(outcomes, (n_simulations, n_trials))"
   ]
  },
  {
   "cell_type": "markdown",
   "metadata": {},
   "source": [
    "### store results in dataframe!"
   ]
  },
  {
   "cell_type": "code",
   "execution_count": null,
   "metadata": {},
   "outputs": [],
   "source": [
    "import pandas as pd\n",
    "roll_df = pd.DataFrame(rolls)"
   ]
  },
  {
   "cell_type": "markdown",
   "metadata": {
    "tags": []
   },
   "source": [
    "### 3. apply an aggregate row-wise to produce the results of each simulation"
   ]
  },
  {
   "cell_type": "code",
   "execution_count": null,
   "metadata": {},
   "outputs": [],
   "source": [
    "# find the circumstance where the die roll is equal to 3, sum\n",
    "# the boolean ints (0==False, 1 == True) across the columns (axis=1)\n",
    "times_we_rolled_three = (roll_df == 3).sum(axis=1)"
   ]
  },
  {
   "cell_type": "markdown",
   "metadata": {},
   "source": [
    "### 4. aggregate the resulting data to get our experimental probability"
   ]
  },
  {
   "cell_type": "code",
   "execution_count": null,
   "metadata": {},
   "outputs": [
    {
     "data": {
      "text/plain": [
       "0.42258"
      ]
     },
     "execution_count": 322,
     "metadata": {},
     "output_type": "execute_result"
    }
   ],
   "source": [
    "# the average of the times where we got at least one three\n",
    "(times_we_rolled_three > 0).mean()"
   ]
  },
  {
   "cell_type": "code",
   "execution_count": null,
   "metadata": {},
   "outputs": [],
   "source": []
  }
 ],
 "metadata": {
  "kernelspec": {
   "display_name": "Python 3 (ipykernel)",
   "language": "python",
   "name": "python3"
  },
  "language_info": {
   "codemirror_mode": {
    "name": "ipython",
    "version": 3
   },
   "file_extension": ".py",
   "mimetype": "text/x-python",
   "name": "python",
   "nbconvert_exporter": "python",
   "pygments_lexer": "ipython3",
   "version": "3.11.3"
  }
 },
 "nbformat": 4,
 "nbformat_minor": 4
}
