{
 "cells": [
  {
   "cell_type": "markdown",
   "metadata": {},
   "source": [
    "# Exercise"
   ]
  },
  {
   "cell_type": "code",
   "execution_count": 51,
   "metadata": {},
   "outputs": [
    {
     "name": "stdout",
     "output_type": "stream",
     "text": [
      "Probability of doubles in 10k rolls: 0.1636\n"
     ]
    }
   ],
   "source": [
    "import numpy as np\n",
    "\n",
    "# 1. How likely is it that you roll doubles when rolling two dice?\n",
    "\n",
    "n_simulations = 10_000\n",
    "\n",
    "dice_rolls = np.random.randint(1, 7, size=(n_simulations, 2))\n",
    "\n",
    "# Create a boolean mask. Use a slice to select column 1, and column 2 separately. If they match, True.\n",
    "p_doubles = (dice_rolls[:, 0] == dice_rolls[:, 1]).mean()\n",
    "\n",
    "print(f'Probability of doubles in 10k rolls:', p_doubles)"
   ]
  },
  {
   "cell_type": "code",
   "execution_count": 52,
   "metadata": {},
   "outputs": [
    {
     "data": {
      "text/plain": [
       "(10000, 8)"
      ]
     },
     "execution_count": 52,
     "metadata": {},
     "output_type": "execute_result"
    }
   ],
   "source": [
    "# 2. If you flip 8 coins, what is the probability of getting exactly 3 heads? What is the probability of getting more than 3 heads?\n",
    "\n",
    "# Generate variables\n",
    "n_sims = 10_000\n",
    "coins = 8\n",
    "outcomes = ['H','T']\n",
    "coin_flip = np.random.choice(outcomes, size=(n_sims, coins))\n",
    "\n",
    "# Check shape to ensure 10k rolls and 8 coins\n",
    "coin_flip.shape"
   ]
  },
  {
   "cell_type": "code",
   "execution_count": 53,
   "metadata": {},
   "outputs": [
    {
     "name": "stdout",
     "output_type": "stream",
     "text": [
      "The probability of 3 heads is: 0.215\n"
     ]
    }
   ],
   "source": [
    "# Probability of 3 heads?\n",
    "\n",
    "# If the row adds up to 3 exactly 3, we have 3 heads.\n",
    "three_heads = ((coin_flip == 'H').sum(axis=1) == 3).mean()\n",
    "\n",
    "print(f'The probability of 3 heads is:', three_heads)"
   ]
  },
  {
   "cell_type": "code",
   "execution_count": 54,
   "metadata": {},
   "outputs": [
    {
     "name": "stdout",
     "output_type": "stream",
     "text": [
      "The probability of more than three heads is: 0.6417\n"
     ]
    }
   ],
   "source": [
    "# Probability of more than 3 heads?\n",
    "\n",
    "# If the row adds up to more than 3, we have more than 3 Trues with our boolean mask.\n",
    "more_than_three = ((coin_flip == 'H').sum(axis=1) > 3).mean()\n",
    "\n",
    "print(f'The probability of more than three heads is:', more_than_three)"
   ]
  },
  {
   "cell_type": "code",
   "execution_count": 55,
   "metadata": {},
   "outputs": [
    {
     "name": "stdout",
     "output_type": "stream",
     "text": [
      "The probability of two data science billboards is: 0.06341\n"
     ]
    }
   ],
   "source": [
    "# 3. There are approximitely 3 web development cohorts for every 1 data science cohort at Codeup.\n",
    "# Assuming that Codeup randomly selects an alumni to put on a billboard, what are the odds that \n",
    "# the two billboards I drive past both have data science students on them?\n",
    "\n",
    "n_simulations = 100000\n",
    "\n",
    "# WAY 1: Simulate selecting alumni for two billboards\n",
    "# billboards = np.random.choice(['web', 'web', 'web', 'data'], (n_simulations, 2))\n",
    "\n",
    "# WAY 2: Could also use probability within the np.random.choice\n",
    "billboards = np.random.choice(['web', 'data'], size=(n_simulations, 2), p=(0.75, 0.25))\n",
    "\n",
    "# Calculate the number of times both billboards have data science students on them\n",
    "n_data = np.sum((billboards == 'data').all(axis=1))\n",
    "\n",
    "p_data = n_data / n_simulations\n",
    "\n",
    "print(f'The probability of two data science billboards is:', p_data)"
   ]
  },
  {
   "cell_type": "code",
   "execution_count": 56,
   "metadata": {},
   "outputs": [
    {
     "name": "stdout",
     "output_type": "stream",
     "text": [
      "The probability there will be Poptarts on Friday afternoon: 0.61616\n"
     ]
    }
   ],
   "source": [
    "# 4. Codeup students buy, on average, 3 poptart packages with a \n",
    "# standard deviation of 1.5 a day from the snack vending machine. \n",
    "# If on monday the machine is restocked with 17 poptart packages,\n",
    "# how likely is it that I will be able to buy some poptarts on \n",
    "# Friday afternoon? \n",
    "\n",
    "# (Remember, if you have mean and standard deviation,\n",
    "# use the np.random.normal) You'll need to make a judgement call on how to handle some of your values.\n",
    "\n",
    "n_simulations = 100_000\n",
    "\n",
    "# Simulate the number of poptart packages sold each day\n",
    "mu = mean = 3\n",
    "sigma = std_dev = 1.5\n",
    "days_in_a_week = 5\n",
    "\n",
    "packages_sold = np.random.normal(mu, sigma, (n_simulations, days_in_a_week))\n",
    "\n",
    "# Calculate the total number of poptart packages sold during the week\n",
    "total_sold = np.sum(packages_sold, axis=1)\n",
    "\n",
    "# Calculate the probability of being able to buy some poptarts on Friday afternoon, assuming this Monday we started with 17.\n",
    "p_buy = np.mean(total_sold <= 16)\n",
    "\n",
    "print(f'The probability there will be Poptarts on Friday afternoon:', p_buy)"
   ]
  },
  {
   "cell_type": "code",
   "execution_count": 57,
   "metadata": {},
   "outputs": [],
   "source": [
    "# 5. Compare Heights\n",
    "\n",
    "# 5a. Men have an average height of 178 cm and standard deviation of 8cm.\n",
    "# 5b. Women have a mean of 170, sd = 6cm.\n",
    "\n",
    "# 5c. Since you have means and standard deviations, you can use np.random.normal to generate observations.\n",
    "\n",
    "# Initialize variables\n",
    "n_sims = 10_000\n",
    "m_mean, m_sd = 178, 8\n",
    "f_mean, f_sd = 170, 6\n",
    "\n",
    "# Generate the two separate columns\n",
    "male_heights = np.random.normal(m_mean, m_sd, (n_sims, 1))\n",
    "female_heights = np.random.normal(f_mean, f_sd, (n_sims, 1))"
   ]
  },
  {
   "cell_type": "code",
   "execution_count": 58,
   "metadata": {},
   "outputs": [
    {
     "data": {
      "text/plain": [
       "0.2168"
      ]
     },
     "execution_count": 58,
     "metadata": {},
     "output_type": "execute_result"
    }
   ],
   "source": [
    "# 5d. If a man and woman are chosen at random, what is the likelihood the woman is taller than the man?\n",
    "\n",
    "# USING BOOLEAN MASK, couldn't figure out how to get the two heights together, so I did np.hstack()\n",
    "\n",
    "female_taller_mask = np.sum(female_heights > male_heights)\n",
    "\n",
    "female_taller_mask.mean() / n_sims"
   ]
  },
  {
   "cell_type": "code",
   "execution_count": 59,
   "metadata": {},
   "outputs": [
    {
     "name": "stdout",
     "output_type": "stream",
     "text": [
      "Odds of successful install of 50 students: 0.81851\n"
     ]
    }
   ],
   "source": [
    "# 6. When installing anaconda on a student's computer, there's a 1 in 250 chance that the download is corrupted and the installation fails.\n",
    "# What are the odds that after having 50 students download anaconda, no one has an installation issue?\n",
    "\n",
    "prob_event_fails = 1/250\n",
    "n_trials = 50 \n",
    "install_simulations = np.random.random((n_simulations, n_trials))\n",
    "\n",
    "odds = ((install_simulations < prob_event_fails).sum(axis=1) == 0).mean()\n",
    "\n",
    "print(f'Odds of successful install of 50 students:', odds)"
   ]
  },
  {
   "cell_type": "code",
   "execution_count": 60,
   "metadata": {},
   "outputs": [
    {
     "name": "stdout",
     "output_type": "stream",
     "text": [
      "Odds of successful install of 100 students: 0.67239\n"
     ]
    }
   ],
   "source": [
    "# 6a. 100 students?\n",
    "\n",
    "prob_event_fails = 1/250\n",
    "n_trials = 100 \n",
    "install_simulations = np.random.random((n_simulations, n_trials))\n",
    "\n",
    "odds = ((install_simulations < prob_event_fails).sum(axis=1) == 0).mean()\n",
    "\n",
    "print(f'Odds of successful install of 100 students:', odds)"
   ]
  },
  {
   "cell_type": "code",
   "execution_count": 61,
   "metadata": {},
   "outputs": [
    {
     "name": "stdout",
     "output_type": "stream",
     "text": [
      "Odds of successful install of 150 students: 0.54874\n"
     ]
    }
   ],
   "source": [
    "# 6b. What is the probability that we observe an installation issue within the first 150 students that download anaconda?\n",
    "\n",
    "prob_event_fails = 1/250\n",
    "n_trials = 150 \n",
    "install_simulations = np.random.random((n_simulations, n_trials))\n",
    "\n",
    "odds = ((install_simulations < prob_event_fails).sum(axis=1) == 0).mean()\n",
    "\n",
    "print(f'Odds of successful install of 150 students:', odds)"
   ]
  },
  {
   "cell_type": "code",
   "execution_count": 62,
   "metadata": {},
   "outputs": [
    {
     "name": "stdout",
     "output_type": "stream",
     "text": [
      "Odds of successful install of 450 students: 0.16602\n"
     ]
    }
   ],
   "source": [
    "# 6c. How likely is it that 450 students all download anaconda without an issue?\n",
    "\n",
    "prob_event_fails = 1/250\n",
    "n_trials = 450 \n",
    "install_simulations = np.random.random((n_simulations, n_trials))\n",
    "\n",
    "odds = ((install_simulations < prob_event_fails).sum(axis=1) == 0).mean()\n",
    "\n",
    "print(f'Odds of successful install of 450 students:', odds)"
   ]
  },
  {
   "cell_type": "code",
   "execution_count": 63,
   "metadata": {},
   "outputs": [
    {
     "name": "stdout",
     "output_type": "stream",
     "text": [
      "Odds of no truck in 3 days: 0.02807\n"
     ]
    }
   ],
   "source": [
    "# 7. There's a 70% chance on any given day that there will be at least one food truck at Travis Park.\n",
    "# However, you haven't seen a food truck there in 3 days. How unlikely is this?\n",
    "\n",
    "outcomes = ['truck', 'no_lunch']\n",
    "\n",
    "truck_simulations = np.random.choice(outcomes, size=(n_simulations, 3), p=(0.7, 0.3))\n",
    "\n",
    "truck_simulations == 'truck'\n",
    "\n",
    "odds = ((truck_simulations == 'truck').sum(axis=1) == 0).mean()\n",
    "\n",
    "print(f'Odds of no truck in 3 days:', odds)"
   ]
  },
  {
   "cell_type": "code",
   "execution_count": 64,
   "metadata": {},
   "outputs": [
    {
     "name": "stdout",
     "output_type": "stream",
     "text": [
      "Odds of truck coming this week: 0.99754\n"
     ]
    }
   ],
   "source": [
    "# 7a. How likely is it that a food truck will show up sometime this week?\n",
    "\n",
    "outcomes = ['truck', 'no_lunch']\n",
    "\n",
    "truck_simulations = np.random.choice(outcomes, size=(n_simulations, 5), p=(0.7, 0.3))\n",
    "\n",
    "truck_simulations == 'truck'\n",
    "\n",
    "odds = ((truck_simulations == 'truck').sum(axis=1) > 0).mean()\n",
    "\n",
    "print(f'Odds of truck coming this week:', odds)"
   ]
  },
  {
   "cell_type": "code",
   "execution_count": 65,
   "metadata": {},
   "outputs": [
    {
     "name": "stdout",
     "output_type": "stream",
     "text": [
      "Chance that people share a birthday amongst 23 people: 0.5039\n"
     ]
    }
   ],
   "source": [
    "# 8. If 23 people are in the same room, what are the odds that two of them share a birthday? \n",
    "\n",
    "import numpy as np\n",
    "\n",
    "def birthday_paradox(n_people):\n",
    "    n_simulations = 10_000\n",
    "\n",
    "    count = 0\n",
    "    for n in range(n_simulations):\n",
    "        birthdays = np.random.randint(365, size=n_people)\n",
    "        # Use set() to remove any duplicate values. If the length of the set is shorter than\n",
    "        # the number of people variable, there were duplicates present and the count variable\n",
    "        # will be incremented.\n",
    "        if len(set(birthdays)) < n_people:\n",
    "            count += 1\n",
    "\n",
    "    prob = count / n_simulations\n",
    "    return prob\n",
    "\n",
    "print(f'Chance that people share a birthday amongst 23 people:', birthday_paradox(23))"
   ]
  },
  {
   "cell_type": "code",
   "execution_count": 66,
   "metadata": {},
   "outputs": [
    {
     "name": "stdout",
     "output_type": "stream",
     "text": [
      "Chance that people share a birthday amongst 20 people: 0.4056\n"
     ]
    }
   ],
   "source": [
    "# What if it's 20 people? \n",
    "\n",
    "print(f'Chance that people share a birthday amongst 20 people:', birthday_paradox(20))"
   ]
  },
  {
   "cell_type": "code",
   "execution_count": 67,
   "metadata": {},
   "outputs": [
    {
     "name": "stdout",
     "output_type": "stream",
     "text": [
      "Chance that people share a birthday amongst 40 people: 0.893\n"
     ]
    }
   ],
   "source": [
    "# 40?\n",
    "\n",
    "print(f'Chance that people share a birthday amongst 40 people:', birthday_paradox(40))"
   ]
  },
  {
   "cell_type": "markdown",
   "metadata": {},
   "source": [
    "# Lesson in Class with Notes"
   ]
  },
  {
   "cell_type": "markdown",
   "metadata": {},
   "source": [
    "## Simulation\n",
    "\n",
    "- In this lesson, we will work through several examples of using random numbers to simulate real-world scenarios.\n",
    "- For reference, the [viz module](./viz.py) contains the visuals used for these lessons."
   ]
  },
  {
   "cell_type": "markdown",
   "metadata": {},
   "source": [
    "## Generating Random Numbers with Numpy\n",
    "\n",
    "The `numpy.random` module provides a number of functions for generating random numbers.\n",
    "\n",
    "- `np.random.choice`: selects random options from a list\n",
    "- `np.random.uniform`: generates numbers between a given lower and upper bound\n",
    "- `np.random.random`: generates numbers between 0 and 1\n",
    "- `np.random.randn`: generates numbers from the standard normal distribution\n",
    "- `np.random.normal`: generates numbers from a normal distribution with a specified mean and standard deviation"
   ]
  },
  {
   "cell_type": "markdown",
   "metadata": {},
   "source": [
    "## How to run simulations with numpy/python/pandas"
   ]
  },
  {
   "cell_type": "markdown",
   "metadata": {},
   "source": [
    "### Process\n",
    "1. Represent the data\n",
    "2. Create a matrix of random numbers\n",
    "3. Apply an aggregate row-wise to produce the results of each simulation\n",
    "4. Aggregate the resulting data to get our experimental probability"
   ]
  },
  {
   "cell_type": "code",
   "execution_count": 68,
   "metadata": {},
   "outputs": [],
   "source": [
    "import numpy as np"
   ]
  },
  {
   "cell_type": "code",
   "execution_count": 69,
   "metadata": {},
   "outputs": [
    {
     "data": {
      "text/plain": [
       "True"
      ]
     },
     "execution_count": 69,
     "metadata": {},
     "output_type": "execute_result"
    }
   ],
   "source": [
    "1 == round((1/6) + (1/6) + (1/6) + (1/6) + (1/6) + (1/6))"
   ]
  },
  {
   "cell_type": "code",
   "execution_count": 70,
   "metadata": {},
   "outputs": [
    {
     "data": {
      "text/plain": [
       "1"
      ]
     },
     "execution_count": 70,
     "metadata": {},
     "output_type": "execute_result"
    }
   ],
   "source": [
    "# set of possible outcomes:\n",
    "outcomes = [1, 2, 3, 4, 5, 6]\n",
    "np.random.choice(outcomes)"
   ]
  },
  {
   "cell_type": "markdown",
   "metadata": {},
   "source": [
    "## What's the probaility of rolling a 2 on a 6-sided die?"
   ]
  },
  {
   "cell_type": "markdown",
   "metadata": {},
   "source": [
    "- What is the expected probability?"
   ]
  },
  {
   "cell_type": "markdown",
   "metadata": {},
   "source": [
    "### 1. Represent the data"
   ]
  },
  {
   "cell_type": "markdown",
   "metadata": {
    "tags": []
   },
   "source": [
    "### 2. Create a matrix of random numbers"
   ]
  },
  {
   "cell_type": "code",
   "execution_count": 71,
   "metadata": {},
   "outputs": [],
   "source": [
    "# number of trials to simulate die rolls:\n",
    "n_trials = 100\n",
    "# define a array with 100 instances of a random choice on the\n",
    "# outcomes list\n",
    "hundred_rolls = np.random.choice(outcomes, n_trials) "
   ]
  },
  {
   "cell_type": "markdown",
   "metadata": {
    "tags": []
   },
   "source": [
    "\n",
    "### 3. Apply an aggregate row-wise to produce the results of each simulation"
   ]
  },
  {
   "cell_type": "code",
   "execution_count": 72,
   "metadata": {},
   "outputs": [
    {
     "data": {
      "text/plain": [
       "16"
      ]
     },
     "execution_count": 72,
     "metadata": {},
     "output_type": "execute_result"
    }
   ],
   "source": [
    "(hundred_rolls == 2).sum()"
   ]
  },
  {
   "cell_type": "markdown",
   "metadata": {},
   "source": [
    "### 4. Aggregate the resulting data to get our experimental probability"
   ]
  },
  {
   "cell_type": "code",
   "execution_count": 73,
   "metadata": {},
   "outputs": [
    {
     "data": {
      "text/plain": [
       "0.16"
      ]
     },
     "execution_count": 73,
     "metadata": {},
     "output_type": "execute_result"
    }
   ],
   "source": [
    "(hundred_rolls == 2).sum() / len(hundred_rolls)"
   ]
  },
  {
   "cell_type": "markdown",
   "metadata": {},
   "source": [
    "### Expected Probability"
   ]
  },
  {
   "cell_type": "markdown",
   "metadata": {},
   "source": [
    "### Consolidate & increase trial size"
   ]
  },
  {
   "cell_type": "code",
   "execution_count": 74,
   "metadata": {},
   "outputs": [],
   "source": [
    "ten_k_rolls = np.random.choice(outcomes, 10_000)"
   ]
  },
  {
   "cell_type": "code",
   "execution_count": 75,
   "metadata": {},
   "outputs": [
    {
     "data": {
      "text/plain": [
       "0.1613"
      ]
     },
     "execution_count": 75,
     "metadata": {},
     "output_type": "execute_result"
    }
   ],
   "source": [
    "(ten_k_rolls == 2).sum() / len(ten_k_rolls)"
   ]
  },
  {
   "cell_type": "markdown",
   "metadata": {},
   "source": [
    "## YAY Completed simulation!"
   ]
  },
  {
   "cell_type": "markdown",
   "metadata": {},
   "source": [
    "- Also known as the monte carlo method"
   ]
  },
  {
   "cell_type": "markdown",
   "metadata": {},
   "source": [
    "## What is the probability that we roll 5 or greater on a die roll? "
   ]
  },
  {
   "cell_type": "markdown",
   "metadata": {},
   "source": [
    "### Expected?"
   ]
  },
  {
   "cell_type": "code",
   "execution_count": 76,
   "metadata": {},
   "outputs": [
    {
     "data": {
      "text/plain": [
       "0.3333333333333333"
      ]
     },
     "execution_count": 76,
     "metadata": {},
     "output_type": "execute_result"
    }
   ],
   "source": [
    "(1/6) + (1/6)"
   ]
  },
  {
   "cell_type": "markdown",
   "metadata": {},
   "source": [
    "### Simulate!"
   ]
  },
  {
   "cell_type": "code",
   "execution_count": 77,
   "metadata": {},
   "outputs": [
    {
     "data": {
      "text/plain": [
       "0.3337"
      ]
     },
     "execution_count": 77,
     "metadata": {},
     "output_type": "execute_result"
    }
   ],
   "source": [
    "(ten_k_rolls > 4).sum() / len(ten_k_rolls)"
   ]
  },
  {
   "cell_type": "markdown",
   "metadata": {},
   "source": [
    "## What's the probability of getting 2 or more heads after flipping 3 coins?"
   ]
  },
  {
   "cell_type": "markdown",
   "metadata": {},
   "source": [
    "### 1. Represent the data"
   ]
  },
  {
   "cell_type": "code",
   "execution_count": 78,
   "metadata": {},
   "outputs": [],
   "source": [
    "# lets create our simulation:\n",
    "# define our outcomes:\n",
    "outcomes = ['H','T']\n",
    "# number of trials will be our columns\n",
    "n_trials = 3\n",
    "# picking a number for our simulations.\n",
    "# the higher the better, but too high may cause the computer\n",
    "# to run a bit longer than we would like\n",
    "n_simulations = 10_000"
   ]
  },
  {
   "cell_type": "code",
   "execution_count": 79,
   "metadata": {},
   "outputs": [],
   "source": [
    "# define our simulation\n"
   ]
  },
  {
   "cell_type": "markdown",
   "metadata": {},
   "source": [
    "### 2. Create a matrix of random numbers"
   ]
  },
  {
   "cell_type": "code",
   "execution_count": 80,
   "metadata": {},
   "outputs": [],
   "source": [
    "# remember dimensions on np array shapes \n",
    "# rows, columns\n",
    "three_flips = np.random.choice(outcomes, (n_simulations, n_trials))"
   ]
  },
  {
   "cell_type": "code",
   "execution_count": 81,
   "metadata": {},
   "outputs": [
    {
     "data": {
      "text/plain": [
       "array([['T', 'H', 'T'],\n",
       "       ['T', 'H', 'H'],\n",
       "       ['T', 'H', 'T'],\n",
       "       ['H', 'T', 'H'],\n",
       "       ['H', 'T', 'T'],\n",
       "       ['T', 'H', 'T'],\n",
       "       ['T', 'T', 'T'],\n",
       "       ['T', 'T', 'H'],\n",
       "       ['H', 'H', 'T'],\n",
       "       ['H', 'H', 'T']], dtype='<U1')"
      ]
     },
     "execution_count": 81,
     "metadata": {},
     "output_type": "execute_result"
    }
   ],
   "source": [
    "three_flips[:10,:]"
   ]
  },
  {
   "cell_type": "markdown",
   "metadata": {},
   "source": [
    "- Here the `(10_000, 3)` tuple tells numpy the shape of the matrix to generate. \n",
    "- Since we are flipping 3 coins we have 3 columns, and we are doing 10_000 simulations, we'll have 20 rows."
   ]
  },
  {
   "cell_type": "markdown",
   "metadata": {},
   "source": [
    "### 3. Apply an aggregate row-wise to produce the results of each simulation"
   ]
  },
  {
   "cell_type": "code",
   "execution_count": 82,
   "metadata": {},
   "outputs": [
    {
     "data": {
      "text/plain": [
       "array([1, 2, 1, ..., 2, 0, 2])"
      ]
     },
     "execution_count": 82,
     "metadata": {},
     "output_type": "execute_result"
    }
   ],
   "source": [
    "(three_flips == 'H').sum(axis=1)"
   ]
  },
  {
   "cell_type": "markdown",
   "metadata": {},
   "source": [
    "- Count how many heads there are for each simlution"
   ]
  },
  {
   "cell_type": "markdown",
   "metadata": {},
   "source": [
    "- this 1-d array shows how many heads appeared in each simulations\n",
    "- we want to know how many times we have 2 or more heads, so lets convert that to a boolean array when our head count is 2 or greater"
   ]
  },
  {
   "cell_type": "markdown",
   "metadata": {},
   "source": [
    "### 4. Aggregate the resulting data to get our experimental probability\n",
    "- Here we'll calculate the number of successful trials "
   ]
  },
  {
   "cell_type": "code",
   "execution_count": 83,
   "metadata": {},
   "outputs": [
    {
     "data": {
      "text/plain": [
       "0.4992"
      ]
     },
     "execution_count": 83,
     "metadata": {},
     "output_type": "execute_result"
    }
   ],
   "source": [
    "((three_flips == 'H').sum(axis=1) >= 2).sum() / 10_000"
   ]
  },
  {
   "cell_type": "markdown",
   "metadata": {},
   "source": [
    "### Consolidate & increase simulations!"
   ]
  },
  {
   "cell_type": "code",
   "execution_count": 84,
   "metadata": {},
   "outputs": [],
   "source": [
    "three_flips = np.random.choice(outcomes, (1_000_000, 3))"
   ]
  },
  {
   "cell_type": "code",
   "execution_count": 85,
   "metadata": {},
   "outputs": [
    {
     "data": {
      "text/plain": [
       "array([['H', 'H', 'H'],\n",
       "       ['T', 'H', 'T'],\n",
       "       ['T', 'T', 'H']], dtype='<U1')"
      ]
     },
     "execution_count": 85,
     "metadata": {},
     "output_type": "execute_result"
    }
   ],
   "source": [
    "three_flips[:3, :]"
   ]
  },
  {
   "cell_type": "code",
   "execution_count": 86,
   "metadata": {},
   "outputs": [
    {
     "data": {
      "text/plain": [
       "array([['H', 'H', 'H'],\n",
       "       ['T', 'H', 'T'],\n",
       "       ['T', 'T', 'H'],\n",
       "       ...,\n",
       "       ['T', 'H', 'T'],\n",
       "       ['H', 'H', 'H'],\n",
       "       ['H', 'H', 'T']], dtype='<U1')"
      ]
     },
     "execution_count": 86,
     "metadata": {},
     "output_type": "execute_result"
    }
   ],
   "source": [
    "three_flips"
   ]
  },
  {
   "cell_type": "code",
   "execution_count": 87,
   "metadata": {},
   "outputs": [
    {
     "data": {
      "text/plain": [
       "1000000"
      ]
     },
     "execution_count": 87,
     "metadata": {},
     "output_type": "execute_result"
    }
   ],
   "source": [
    "len(three_flips)"
   ]
  },
  {
   "cell_type": "code",
   "execution_count": 88,
   "metadata": {},
   "outputs": [
    {
     "data": {
      "text/plain": [
       "0.500702"
      ]
     },
     "execution_count": 88,
     "metadata": {},
     "output_type": "execute_result"
    }
   ],
   "source": [
    "((three_flips == 'H').sum(axis=1) >= 2).sum() / len(three_flips)"
   ]
  },
  {
   "cell_type": "markdown",
   "metadata": {},
   "source": [
    "## Carnival Dice Rolls\n",
    "\n",
    "> You are at a carnival and come across a person in a booth offering you a game\n",
    "> of \"chance\" (as people in booths at carnivals tend to do).\n",
    "\n",
    "> You pay 5 dollars and roll 3 dice. If the sum of the dice rolls is greater\n",
    "> than 12, you get 15 dollars. If it's less than or equal to 12, you get\n",
    "> nothing.\n",
    "\n",
    "> Assuming the dice are fair, should you play this game? How would this change\n",
    "> if the winning condition was a sum greater than *or equal to* 12?"
   ]
  },
  {
   "cell_type": "markdown",
   "metadata": {},
   "source": [
    "To simulate this problem, we'll write the python code to simulate the scenario described above, then repeat it a large amount of times."
   ]
  },
  {
   "cell_type": "markdown",
   "metadata": {},
   "source": [
    "### 1. represent our data"
   ]
  },
  {
   "cell_type": "code",
   "execution_count": 89,
   "metadata": {},
   "outputs": [],
   "source": [
    "# number of times we want to repeat this experiment\n",
    "n_simulations = 100_000\n",
    "# number of times we roll the dice\n",
    "# the number of columns in our matrix\n",
    "n_trials = 3\n",
    "# outcomes, the list of possible options of things that could happen\n",
    "# in the scope of a die roll\n",
    "outcomes = [1, 2, 3, 4, 5, 6]\n"
   ]
  },
  {
   "cell_type": "markdown",
   "metadata": {},
   "source": [
    "### 2. set up matrix of random numbers"
   ]
  },
  {
   "cell_type": "code",
   "execution_count": 90,
   "metadata": {},
   "outputs": [],
   "source": [
    "dice_game = np.random.choice(outcomes, (n_simulations, n_trials))"
   ]
  },
  {
   "cell_type": "markdown",
   "metadata": {},
   "source": [
    "### 3. apply an aggregate row-wise to produce the results of each simulation"
   ]
  },
  {
   "cell_type": "code",
   "execution_count": 91,
   "metadata": {},
   "outputs": [
    {
     "data": {
      "text/plain": [
       "array([ 9, 16, 12, ..., 10, 11, 10])"
      ]
     },
     "execution_count": 91,
     "metadata": {},
     "output_type": "execute_result"
    }
   ],
   "source": [
    "# sum the three trials together\n",
    "dice_game.sum(axis=1)"
   ]
  },
  {
   "cell_type": "markdown",
   "metadata": {},
   "source": [
    "#### Find which simulations \"won\""
   ]
  },
  {
   "cell_type": "code",
   "execution_count": 92,
   "metadata": {},
   "outputs": [
    {
     "data": {
      "text/plain": [
       "25933"
      ]
     },
     "execution_count": 92,
     "metadata": {},
     "output_type": "execute_result"
    }
   ],
   "source": [
    "# dice game, summed across three trials]\n",
    "#  checking to see if that sum is greater than 12\n",
    "# and then taking the sum of all of those 100k simulations\n",
    "(dice_game.sum(axis=1) > 12).sum()"
   ]
  },
  {
   "cell_type": "markdown",
   "metadata": {},
   "source": [
    "### 4. aggregate the resulting data to get our experimental probability"
   ]
  },
  {
   "cell_type": "code",
   "execution_count": 93,
   "metadata": {},
   "outputs": [
    {
     "data": {
      "text/plain": [
       "0.25933"
      ]
     },
     "execution_count": 93,
     "metadata": {},
     "output_type": "execute_result"
    }
   ],
   "source": [
    "(dice_game.sum(axis=1) > 12).sum() / len(dice_game)"
   ]
  },
  {
   "cell_type": "code",
   "execution_count": 94,
   "metadata": {},
   "outputs": [],
   "source": [
    "sum_of_rolls = dice_game.sum(axis=1)"
   ]
  },
  {
   "cell_type": "code",
   "execution_count": 95,
   "metadata": {},
   "outputs": [],
   "source": [
    "winning_odds = (sum_of_rolls > 12).mean()"
   ]
  },
  {
   "cell_type": "markdown",
   "metadata": {},
   "source": [
    "### To complete this problem, we can calculate the expected profit from our win rate:"
   ]
  },
  {
   "cell_type": "code",
   "execution_count": 96,
   "metadata": {},
   "outputs": [
    {
     "data": {
      "text/plain": [
       "3.8899500000000002"
      ]
     },
     "execution_count": 96,
     "metadata": {},
     "output_type": "execute_result"
    }
   ],
   "source": [
    "# playing the game costs $5\n",
    "# winning the game gets $15\n",
    "winning_odds * 15"
   ]
  },
  {
   "cell_type": "code",
   "execution_count": 97,
   "metadata": {},
   "outputs": [
    {
     "data": {
      "text/plain": [
       "1.0899999999999999"
      ]
     },
     "execution_count": 97,
     "metadata": {},
     "output_type": "execute_result"
    }
   ],
   "source": [
    "# average gross from playing this game is $3.91\n",
    "# flat cost to play the game is $5.00\n",
    "# which means on average playing this game, you would lose\n",
    "5 - 3.91"
   ]
  },
  {
   "cell_type": "markdown",
   "metadata": {},
   "source": [
    "If our win condition changes to the sum being greater than or equal to 12, then, based on our simulations, on average, we expect to win about 60 cents"
   ]
  },
  {
   "cell_type": "markdown",
   "metadata": {},
   "source": [
    "## No Rest or Relaxation\n",
    "\n",
    "> There's a 30% chance my son takes a nap on any given weekend day. What is the chance that he takes a nap at least one day this weekend? What is the probability that he doesn't nap at all?"
   ]
  },
  {
   "cell_type": "markdown",
   "metadata": {},
   "source": [
    "### 1. represent our data"
   ]
  },
  {
   "cell_type": "code",
   "execution_count": 98,
   "metadata": {},
   "outputs": [],
   "source": [
    "# the probability of napping is 30%\n",
    "p_nap = 0.3\n",
    "# number of trials is equivalent to the number of days in the weekend\n",
    "n_days = n_trials = 2\n",
    "# the number of simulations is just a big number that we are choose\n",
    "# in order to approximate the theoretical value\n",
    "n_simulations = 100_000"
   ]
  },
  {
   "cell_type": "markdown",
   "metadata": {},
   "source": [
    "### 2. set up matrix of random numbers"
   ]
  },
  {
   "cell_type": "markdown",
   "metadata": {},
   "source": [
    "To determine whether or not a nap is taken on a given day, we'll generate a random number between 0 and 1, and say that it is a nap if it is less than our probability of taking a nap."
   ]
  },
  {
   "cell_type": "code",
   "execution_count": 99,
   "metadata": {},
   "outputs": [],
   "source": [
    "nap_sims = np.random.random((n_simulations, n_days))"
   ]
  },
  {
   "cell_type": "code",
   "execution_count": 100,
   "metadata": {},
   "outputs": [
    {
     "name": "stdout",
     "output_type": "stream",
     "text": [
      "\u001b[0;31mDocstring:\u001b[0m\n",
      "random(size=None)\n",
      "\n",
      "Return random floats in the half-open interval [0.0, 1.0). Alias for\n",
      "`random_sample` to ease forward-porting to the new random API.\n",
      "\u001b[0;31mType:\u001b[0m      builtin_function_or_method"
     ]
    }
   ],
   "source": [
    "np.random.random?"
   ]
  },
  {
   "cell_type": "code",
   "execution_count": 101,
   "metadata": {},
   "outputs": [
    {
     "data": {
      "text/plain": [
       "array([[0.52227231, 0.04285301],\n",
       "       [0.4665782 , 0.91728838],\n",
       "       [0.61889236, 0.22117099],\n",
       "       [0.59167323, 0.74188598],\n",
       "       [0.5811668 , 0.74365038]])"
      ]
     },
     "execution_count": 101,
     "metadata": {},
     "output_type": "execute_result"
    }
   ],
   "source": [
    "# lets look at the first few rows:\n",
    "nap_sims[:5,:]"
   ]
  },
  {
   "cell_type": "markdown",
   "metadata": {
    "tags": []
   },
   "source": [
    "### 3. apply an aggregate row-wise to produce the results of each simulation"
   ]
  },
  {
   "cell_type": "code",
   "execution_count": 102,
   "metadata": {},
   "outputs": [],
   "source": [
    "# we compare these decimals to the probability of napping\n",
    "# because our generated numbers are between 0 and 1 and are decimals,\n",
    "# we know that we have approximately 30% odds\n",
    "# of that number hitting between 0.00 and 0.30\n",
    "# so the times that our generated number\n",
    "# is less than our prob of nap,\n",
    "# represents a successful nap in this situation\n",
    "nap_wins = (nap_sims < p_nap)"
   ]
  },
  {
   "cell_type": "markdown",
   "metadata": {},
   "source": [
    "Now that we have each day as either true or false, we can take the sum of each row to find the total number of naps for the weekend. When we sum an array of boolean values, numpy will treat `True` as 1 and `False` as 0."
   ]
  },
  {
   "cell_type": "markdown",
   "metadata": {},
   "source": [
    "Now we have the results of our simulation, an array where each number in the array represents how many naps were taken in a two day weekend."
   ]
  },
  {
   "cell_type": "markdown",
   "metadata": {},
   "source": [
    "### 4. aggregate the resulting data to get our experimental probability"
   ]
  },
  {
   "cell_type": "code",
   "execution_count": 103,
   "metadata": {},
   "outputs": [
    {
     "data": {
      "text/plain": [
       "0.50956"
      ]
     },
     "execution_count": 103,
     "metadata": {},
     "output_type": "execute_result"
    }
   ],
   "source": [
    "(nap_wins.sum(axis=1) > 0).mean()"
   ]
  },
  {
   "cell_type": "code",
   "execution_count": 104,
   "metadata": {},
   "outputs": [
    {
     "data": {
      "text/plain": [
       "1.0"
      ]
     },
     "execution_count": 104,
     "metadata": {},
     "output_type": "execute_result"
    }
   ],
   "source": [
    "(nap_wins.sum(axis=1) == 0).mean() + (\n",
    "    nap_wins.sum(axis=1) == 1).mean() + (\n",
    "    nap_wins.sum(axis=1) == 2).mean()"
   ]
  },
  {
   "cell_type": "markdown",
   "metadata": {},
   "source": [
    "We can use this to answer our original questions, what is the probability that at least one nap is taken?"
   ]
  },
  {
   "cell_type": "markdown",
   "metadata": {},
   "source": [
    "What is the probability no naps are taken?"
   ]
  },
  {
   "cell_type": "markdown",
   "metadata": {},
   "source": [
    "## One With Dataframes\n",
    "\n",
    "Let's take a look at one more problem:\n",
    "\n",
    "> What is the probability of getting at least one 3 in 3 dice rolls?\n",
    "\n",
    "To simulate this, we'll use a similar strategy to how we modeled the dice rolls in the previous example, but this time, we'll store the results in a pandas dataframe so that we can apply a lambda function that will check to see if one of the rolls was a 3."
   ]
  },
  {
   "cell_type": "markdown",
   "metadata": {},
   "source": [
    "### 1. represent our data"
   ]
  },
  {
   "cell_type": "code",
   "execution_count": 105,
   "metadata": {},
   "outputs": [],
   "source": [
    "outcomes = [1, 2, 3, 4, 5, 6]\n",
    "n_simulations = 100_000\n",
    "n_rolls = n_trials = 3"
   ]
  },
  {
   "cell_type": "markdown",
   "metadata": {},
   "source": [
    "### 2. set up matrix of random numbers"
   ]
  },
  {
   "cell_type": "code",
   "execution_count": 106,
   "metadata": {},
   "outputs": [],
   "source": [
    "rolls = np.random.choice(outcomes, (n_simulations, n_trials))"
   ]
  },
  {
   "cell_type": "markdown",
   "metadata": {},
   "source": [
    "### store results in dataframe!"
   ]
  },
  {
   "cell_type": "code",
   "execution_count": 107,
   "metadata": {},
   "outputs": [],
   "source": [
    "import pandas as pd\n",
    "roll_df = pd.DataFrame(rolls)"
   ]
  },
  {
   "cell_type": "markdown",
   "metadata": {
    "tags": []
   },
   "source": [
    "### 3. apply an aggregate row-wise to produce the results of each simulation"
   ]
  },
  {
   "cell_type": "code",
   "execution_count": 108,
   "metadata": {},
   "outputs": [],
   "source": [
    "# find the circumstance where the die roll is equal to 3, sum\n",
    "# the boolean ints (0==False, 1 == True) across the columns (axis=1)\n",
    "times_we_rolled_three = (roll_df == 3).sum(axis=1)"
   ]
  },
  {
   "cell_type": "markdown",
   "metadata": {},
   "source": [
    "### 4. aggregate the resulting data to get our experimental probability"
   ]
  },
  {
   "cell_type": "code",
   "execution_count": 109,
   "metadata": {},
   "outputs": [
    {
     "data": {
      "text/plain": [
       "0.42143"
      ]
     },
     "execution_count": 109,
     "metadata": {},
     "output_type": "execute_result"
    }
   ],
   "source": [
    "# the average of the times where we got at least one three\n",
    "(times_we_rolled_three > 0).mean()"
   ]
  },
  {
   "cell_type": "code",
   "execution_count": null,
   "metadata": {},
   "outputs": [],
   "source": []
  }
 ],
 "metadata": {
  "kernelspec": {
   "display_name": "Python 3 (ipykernel)",
   "language": "python",
   "name": "python3"
  },
  "language_info": {
   "codemirror_mode": {
    "name": "ipython",
    "version": 3
   },
   "file_extension": ".py",
   "mimetype": "text/x-python",
   "name": "python",
   "nbconvert_exporter": "python",
   "pygments_lexer": "ipython3",
   "version": "3.11.3"
  }
 },
 "nbformat": 4,
 "nbformat_minor": 4
}
