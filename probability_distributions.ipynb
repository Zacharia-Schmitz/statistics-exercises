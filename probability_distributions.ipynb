{
 "cells": [
  {
   "cell_type": "markdown",
   "metadata": {},
   "source": [
    "# Exercises"
   ]
  },
  {
   "cell_type": "markdown",
   "metadata": {},
   "source": [
    "For the following problems, use python to simulate the problem and calculate an experimental probability, then compare that to the theoretical probability."
   ]
  },
  {
   "cell_type": "code",
   "execution_count": 36,
   "metadata": {},
   "outputs": [
    {
     "data": {
      "image/png": "[encoded data removed]",
      "text/plain": [
       "<Figure size 640x480 with 1 Axes>"
      ]
     },
     "metadata": {},
     "output_type": "display_data"
    }
   ],
   "source": [
    "# A bank found that the average number of cars waiting during the noon hour at a drive-up window follows a Poisson distribution with a mean of 2 cars.\n",
    "# Make a chart of this distribution and answer these questions concerning the probability of cars waiting at the drive-up window.\n",
    "\n",
    "import numpy as np\n",
    "import matplotlib.pyplot as plt\n",
    "import scipy.stats as stats\n",
    "\n",
    "# Set the mean of the Poisson distribution\n",
    "mu = 2\n",
    "\n",
    "# Generate the x-axis values (number of cars waiting)\n",
    "x = np.arange(poisson.ppf(0.01, mu), poisson.ppf(0.99, mu))\n",
    "\n",
    "# Generate the y-axis values (probability of each number of cars waiting)\n",
    "y = poisson.pmf(x, mu)\n",
    "\n",
    "# Plot the distribution\n",
    "fig, ax = plt.subplots()\n",
    "ax.scatter(x, y)\n",
    "ax.set_xlabel('Number of cars waiting')\n",
    "ax.set_ylabel('Probability')\n",
    "ax.set_title('Poisson distribution with mean = 2')\n",
    "\n",
    "# Add text to each point\n",
    "for i, j in zip(x, y):\n",
    "    ax.text(i, j, str(int(j*100))+'%', ha='center', va='bottom')\n",
    "\n",
    "plt.show()"
   ]
  },
  {
   "cell_type": "code",
   "execution_count": null,
   "metadata": {},
   "outputs": [],
   "source": [
    "# 1a. What is the probability that no cars drive up in the noon hour?\n",
    "\n",
    "# Set the mean of the Poisson distribution\n",
    "mu = 2\n",
    "\n",
    "# Probability of more than 2, when the average is 2.\n",
    "poisson.sf(2, mu)"
   ]
  },
  {
   "cell_type": "code",
   "execution_count": 29,
   "metadata": {},
   "outputs": [
    {
     "data": {
      "text/plain": [
       "0.32332358381693654"
      ]
     },
     "execution_count": 29,
     "metadata": {},
     "output_type": "execute_result"
    }
   ],
   "source": [
    "# 1b. What is the probability that 3 or more cars come through the drive through?\n",
    "\n",
    "# Probability of more than 2, when the average is 2.\n",
    "poisson.sf(2, mu)"
   ]
  },
  {
   "cell_type": "code",
   "execution_count": 48,
   "metadata": {},
   "outputs": [
    {
     "data": {
      "text/plain": [
       "0.950212931632136"
      ]
     },
     "execution_count": 48,
     "metadata": {},
     "output_type": "execute_result"
    }
   ],
   "source": [
    "# 1c. How likely is it that the drive through gets at least 1 car?\n",
    "\n",
    "poisson.sf(0, mu)"
   ]
  },
  {
   "cell_type": "code",
   "execution_count": 43,
   "metadata": {},
   "outputs": [
    {
     "data": {
      "text/plain": [
       "3.4934560880854417"
      ]
     },
     "execution_count": 43,
     "metadata": {},
     "output_type": "execute_result"
    }
   ],
   "source": [
    "# 2. Grades of State University graduates are normally distributed with a mean of 3.0 and a standard deviation of .3. Calculate the following:\n",
    "\n",
    "# 2a. What grade point average is required to be in the top 5% of the graduating class?\n",
    "\n",
    "mu = 3.0\n",
    "sigma = 0.3\n",
    "\n",
    "# Find the z-score that corresponds to the top 5% of the distribution\n",
    "z = stats.norm.isf(0.05)\n",
    "\n",
    "# Calculate the required grade point average\n",
    "gpa = mu + z * sigma\n",
    "\n",
    "gpa"
   ]
  },
  {
   "cell_type": "code",
   "execution_count": 49,
   "metadata": {},
   "outputs": [
    {
     "data": {
      "text/plain": [
       "2.689069983151863"
      ]
     },
     "execution_count": 49,
     "metadata": {},
     "output_type": "execute_result"
    }
   ],
   "source": [
    "# 2b. What GPA constitutes the bottom 15% of the class?\n",
    "\n",
    "mu = 3.0\n",
    "sigma = 0.3\n",
    "\n",
    "# Find the z-score that corresponds to the bottom 15% of the distribution\n",
    "z = stats.norm.ppf(0.15)\n",
    "\n",
    "# Calculate the required grade point average\n",
    "gpa = mu + z * sigma\n",
    "\n",
    "gpa\n"
   ]
  },
  {
   "cell_type": "code",
   "execution_count": null,
   "metadata": {},
   "outputs": [],
   "source": [
    "# 2c. An eccentric alumnus left scholarship money for students in the third decile from the bottom of their class. \n",
    "# Determine the range of the third decile. Would a student with a 2.8 grade point average qualify for this scholarship?\n",
    "\n"
   ]
  },
  {
   "cell_type": "code",
   "execution_count": null,
   "metadata": {},
   "outputs": [],
   "source": [
    "# 2d. If I have a GPA of 3.5, what percentile am I in?\n",
    "\n"
   ]
  },
  {
   "cell_type": "code",
   "execution_count": null,
   "metadata": {},
   "outputs": [],
   "source": [
    "# 3. A marketing website has an average click-through rate of 2%. One day they observe 4326 visitors and 97 click-throughs.\n",
    "# How likely is it that this many people or more click through?\n",
    "\n"
   ]
  },
  {
   "cell_type": "code",
   "execution_count": null,
   "metadata": {},
   "outputs": [],
   "source": [
    "# 4. You are working on some statistics homework consisting of 100 questions where all of the answers are a probability rounded to the hundreths place. \n",
    "# Looking to save time, you put down random probabilities as the answer to each question.\n",
    "\n"
   ]
  },
  {
   "cell_type": "code",
   "execution_count": null,
   "metadata": {},
   "outputs": [],
   "source": [
    "# 4a. What is the probability that at least one of your first 60 answers is correct?\n",
    "\n"
   ]
  },
  {
   "cell_type": "code",
   "execution_count": null,
   "metadata": {},
   "outputs": [],
   "source": [
    "# 5. The codeup staff tends to get upset when the student break area is not cleaned up. \n",
    "# Suppose that there's a 3% chance that any one student cleans the break area when they visit it, and, on any given day, \n",
    "# about 90% of the 3 active cohorts of 22 students visit the break area. How likely is it that the break area gets cleaned up each day?\n",
    "# How likely is it that it goes two days without getting cleaned up? All week?\n",
    "\n"
   ]
  },
  {
   "cell_type": "code",
   "execution_count": null,
   "metadata": {},
   "outputs": [],
   "source": [
    "# 6. You want to get lunch at La Panaderia, but notice that the line is usually very long at lunchtime.\n",
    "# After several weeks of careful observation, you notice that the average number of people in line when \n",
    "# your lunch break starts is normally distributed with a mean of 15 and standard deviation of 3. \n",
    "# If it takes 2 minutes for each person to order, and 10 minutes from ordering to getting your food, \n",
    "# what is the likelihood that you have at least 15 minutes left to eat your food before you have to go back to class?\n",
    "# Assume you have one hour for lunch, and ignore travel time to and from La Panaderia.\n",
    "\n"
   ]
  },
  {
   "cell_type": "code",
   "execution_count": null,
   "metadata": {},
   "outputs": [],
   "source": [
    "# 7. Connect to the employees database and find the average salary of current employees, along with the standard deviation.\n",
    "# For the following questions, calculate the answer based on modeling the employees salaries with a normal distribution\n",
    "# defined by the calculated mean and standard deviation then compare this answer to the actual values present in the salaries dataset.\n",
    "\n"
   ]
  },
  {
   "cell_type": "code",
   "execution_count": null,
   "metadata": {},
   "outputs": [],
   "source": [
    "# 7a. What percent of employees earn less than 60,000?\n",
    "\n"
   ]
  },
  {
   "cell_type": "code",
   "execution_count": null,
   "metadata": {},
   "outputs": [],
   "source": [
    "# 7b. What percent of employees earn more than 95,000?\n",
    "\n"
   ]
  },
  {
   "cell_type": "code",
   "execution_count": null,
   "metadata": {},
   "outputs": [],
   "source": [
    "# 7c. What percent of employees earn between 65,000 and 80,000?\n",
    "\n"
   ]
  },
  {
   "cell_type": "code",
   "execution_count": null,
   "metadata": {},
   "outputs": [],
   "source": [
    "# 7d. What do the top 5% of employees make?\n",
    "\n"
   ]
  },
  {
   "cell_type": "markdown",
   "metadata": {},
   "source": [
    "Hint If you're looking at this exercise and wondering \"How do I get pandas to talk the database, again?\", remember that you'll need 3 things: your .gitignore, your env.py, and to use pd.read_sql. Copy over your .gitignore and env.py from your data science libraries exercises folder, and connect to the employees database like so:"
   ]
  },
  {
   "cell_type": "markdown",
   "metadata": {},
   "source": [
    "# Notes"
   ]
  },
  {
   "cell_type": "markdown",
   "metadata": {},
   "source": [
    "### Definitions\n",
    "\n",
    "- `rvs`: `rvs` is a method of a random variable object in the `scipy.stats` module that generates random numbers from a probability distribution. For example, `scipy.stats.norm.rvs()` generates random numbers from a normal distribution.\n",
    "\n",
    "- `pmf`: `pmf` stands for probability mass function. It is a function that gives the probability of a discrete random variable taking a specific value. For example, the `pmf` of a fair six-sided die is `1/6` for each possible value from 1 to 6.\n",
    "\n",
    "- `pdf`: `pdf` stands for probability density function. It is a function that gives the probability density of a continuous random variable at a specific value. For example, the `pdf` of a normal distribution with mean 0 and standard deviation 1 is given by the formula `f(x) = (1/sqrt(2*pi))*exp(-x^2/2)`.\n",
    "\n",
    "- `cdf`: `cdf` stands for cumulative distribution function. It is a function that gives the probability that a random variable is less than or equal to a specific value. For example, the `cdf` of a normal distribution with mean 0 and standard deviation 1 can be calculated using the `scipy.stats.norm.cdf()` function.\n",
    "\n",
    "- `ppf`: `ppf` stands for percent point function, or inverse cumulative distribution function. It is the inverse of the `cdf` function, and gives the value of the random variable that corresponds to a specific probability. For example, the `ppf` of a normal distribution with mean 0 and standard deviation 1 can be calculated using the `scipy.stats.norm.ppf()` function.\n",
    "\n",
    "- `sf`: `sf` stands for survival function, or complementary cumulative distribution function. It is a function that gives the probability that a random variable is greater than a specific value. For example, the `sf` of a normal distribution with mean 0 and standard deviation 1 can be calculated using the `scipy.stats.norm.sf()` function.\n",
    "\n",
    "- `isf`: `isf` stands for inverse survival function, or inverse complementary cumulative distribution function. It is the inverse of the `sf` function, and gives the value of the random variable that corresponds to a specific probability. For example, the `isf` of a normal distribution with mean 0 and standard deviation 1 can be calculated using the `scipy.stats.norm.isf()` function."
   ]
  },
  {
   "cell_type": "code",
   "execution_count": 2,
   "metadata": {},
   "outputs": [],
   "source": [
    "from scipy import stats\n",
    "\n",
    "# Make a die roll of a 6 sided die\n",
    "die_roll = stats.randint(1,7)"
   ]
  },
  {
   "cell_type": "code",
   "execution_count": 3,
   "metadata": {},
   "outputs": [],
   "source": [
    "ten_k_die = die_roll.rvs(10_000_000)\n",
    "\n",
    "# The `rvs` method takes an integer argument `size` that specifies the number of random numbers to generate. "
   ]
  },
  {
   "cell_type": "code",
   "execution_count": 8,
   "metadata": {},
   "outputs": [
    {
     "data": {
      "text/plain": [
       "0.4998255"
      ]
     },
     "execution_count": 8,
     "metadata": {},
     "output_type": "execute_result"
    }
   ],
   "source": [
    "# Probability of a 3?\n",
    "(ten_k_die == 3).mean()"
   ]
  },
  {
   "cell_type": "code",
   "execution_count": 10,
   "metadata": {},
   "outputs": [
    {
     "name": "stdout",
     "output_type": "stream",
     "text": [
      "Random numbers: [ 1.19743546  0.0609174  -0.24946254 -0.99323423 -0.54159582  0.53853199\n",
      " -1.65278785 -1.05011504  0.3468233  -1.1140455 ]\n",
      "PDF at x=0: 0.3989422804014327\n",
      "CDF at x=0: 0.5\n",
      "PPF for p=0.5: 0.0\n",
      "SF at x=0: 0.5\n",
      "ISF for p=0.5: 0.0\n"
     ]
    }
   ],
   "source": [
    "import numpy as np\n",
    "import scipy.stats as stats\n",
    "\n",
    "# Generate 10 random numbers from a normal distribution with mean 0 and standard deviation 1\n",
    "rvs = stats.norm.rvs(loc=0, scale=1, size=10)\n",
    "\n",
    "# Calculate the probability density of a normal distribution at x=0\n",
    "pdf = stats.norm.pdf(x=0, loc=0, scale=1)\n",
    "\n",
    "# Calculate the cumulative distribution function of a normal distribution at x=0\n",
    "cdf = stats.norm.cdf(x=0, loc=0, scale=1)\n",
    "\n",
    "# Calculate the percent point function of a normal distribution for p=0.5\n",
    "ppf = stats.norm.ppf(q=0.5, loc=0, scale=1)\n",
    "\n",
    "# Calculate the survival function of a normal distribution at x=0\n",
    "sf = stats.norm.sf(x=0, loc=0, scale=1)\n",
    "\n",
    "# Calculate the inverse survival function of a normal distribution for p=0.5\n",
    "isf = stats.norm.isf(q=0.5, loc=0, scale=1)"
   ]
  },
  {
   "cell_type": "markdown",
   "metadata": {},
   "source": [
    "## Mini Exercise:"
   ]
  },
  {
   "cell_type": "code",
   "execution_count": 12,
   "metadata": {},
   "outputs": [],
   "source": [
    "# The average battery life for a fully charged iphone-12 is 14 hours with standard deviation of 1.5 hour**\n",
    "\n",
    "# 1. What kind of probability distribution represents the random variable \"battery life in hours\"?**\n",
    "\n",
    "    # Normal distribution because battery life follows a continuous distribution.\n",
    "\n",
    "# 2. What are the appropriate defining parameters for this distribution?**\n",
    "\n",
    "    # Mean (μ): The average battery life for a fully charged iPhone-12, which is 14 hours in this case.\n",
    "    # Standard deviation (σ): The standard deviation of the battery life, which is 1.5 hours in this case.\n",
    "\n",
    "    # N(μ=14, σ=1.5)."
   ]
  },
  {
   "cell_type": "code",
   "execution_count": 13,
   "metadata": {},
   "outputs": [],
   "source": [
    "# 3. Create a Scipy object/instance for this distribution**\n",
    "\n",
    "import scipy.stats as stats\n",
    "\n",
    "# Create a Scipy object/instance for the normal distribution\n",
    "\n",
    "batlife = stats.norm(loc=14, scale=1.5)"
   ]
  },
  {
   "cell_type": "code",
   "execution_count": 14,
   "metadata": {},
   "outputs": [],
   "source": [
    "# 4. Use the object create above and choose appropriate method (e.g. pmf, cdf, ppf etc.) to calculate the following:\n",
    "\n",
    "# Define the parameters of the normal distribution\n",
    "mu = 14\n",
    "sigma = 1.5"
   ]
  },
  {
   "cell_type": "code",
   "execution_count": 24,
   "metadata": {},
   "outputs": [],
   "source": [
    "# Create a Scipy object/instance for the normal distribution\n",
    "battery_life_dist = stats.norm(mu, sigma)"
   ]
  },
  {
   "cell_type": "code",
   "execution_count": 25,
   "metadata": {},
   "outputs": [
    {
     "data": {
      "text/plain": [
       "0.09121121972586788"
      ]
     },
     "execution_count": 25,
     "metadata": {},
     "output_type": "execute_result"
    }
   ],
   "source": [
    "# a. Probability that the cell phone battery lasts more than 16 hours\n",
    "battery_life_dist.sf(16)"
   ]
  },
  {
   "cell_type": "code",
   "execution_count": 20,
   "metadata": {},
   "outputs": [
    {
     "data": {
      "text/plain": [
       "0.10934004978399577"
      ]
     },
     "execution_count": 20,
     "metadata": {},
     "output_type": "execute_result"
    }
   ],
   "source": [
    "# b. Probability that the cell phone battery lasts exactly 12 hours\n",
    "battery_life_dist.pdf(12)"
   ]
  },
  {
   "cell_type": "code",
   "execution_count": 18,
   "metadata": {},
   "outputs": [
    {
     "data": {
      "text/plain": [
       "0.09121121972586788"
      ]
     },
     "execution_count": 18,
     "metadata": {},
     "output_type": "execute_result"
    }
   ],
   "source": [
    "# c. Probability that the cell phone battery lasts 12 hours or less\n",
    "battery_life_dist.cdf(12)"
   ]
  },
  {
   "cell_type": "code",
   "execution_count": 21,
   "metadata": {},
   "outputs": [
    {
     "data": {
      "text/plain": [
       "15.011734625294123"
      ]
     },
     "execution_count": 21,
     "metadata": {},
     "output_type": "execute_result"
    }
   ],
   "source": [
    "# d. Hours that the battery lasts for top 25% longest lasting phones\n",
    "battery_life_dist.ppf(0.75)\n",
    "    #OR\n",
    "battery_life_dist.isf(0.25)"
   ]
  },
  {
   "cell_type": "markdown",
   "metadata": {},
   "source": [
    "## Notes Continued"
   ]
  },
  {
   "cell_type": "code",
   "execution_count": 26,
   "metadata": {},
   "outputs": [
    {
     "data": {
      "text/plain": [
       "0.10572812269266013"
      ]
     },
     "execution_count": 26,
     "metadata": {},
     "output_type": "execute_result"
    }
   ],
   "source": [
    "# Binomial Distribution\n",
    "# The classic example of this is the number of heads you would expect to see after flipping a coin a certain number of times."
   ]
  },
  {
   "cell_type": "code",
   "execution_count": 27,
   "metadata": {},
   "outputs": [
    {
     "data": {
      "text/plain": [
       "0.10572812269266013"
      ]
     },
     "execution_count": 27,
     "metadata": {},
     "output_type": "execute_result"
    }
   ],
   "source": [
    "# You are taking a multiple choice test consisting of 30 questions that you forgot to study for.\n",
    "# Each question has 4 possible answers and you will choose one at random. What is the probability you get more than 10 of the questions right?\n",
    "\n",
    "trials = 30\n",
    "chance_of_success = 0.25\n",
    "\n",
    "# Chance of getting more than 10 correct?\n",
    "\n",
    "more_than_this_many_correct = 10\n",
    "\n",
    "stats.binom(trials, chance_of_success).sf(more_than_this_many_correct)"
   ]
  },
  {
   "cell_type": "code",
   "execution_count": null,
   "metadata": {},
   "outputs": [],
   "source": []
  },
  {
   "cell_type": "markdown",
   "metadata": {},
   "source": [
    "## Mini Exercise (Binomial Distribution)"
   ]
  },
  {
   "cell_type": "code",
   "execution_count": 39,
   "metadata": {},
   "outputs": [],
   "source": [
    "# The probability that a visitor will make a purchase when browsing in your web-store is 1.5%. You expect 350 web-visitors today \n",
    "\n",
    "\n",
    "# 1. What kind of probability distribution you have for \"# number of visitors who end up making a purchase\"?\n",
    "\n",
    "    # Binomial. Either make a purchase or not. No contingency.\n",
    "\n",
    "import scipy.stats as stats\n",
    "import matplotlib.pyplot as plt\n",
    "\n",
    "# Define the parameters of the binomial distribution\n",
    "trials = 350 # 350 visitors\n",
    "probability = 0.015 # 1.5% chance of purchase\n",
    "\n",
    "# Create a Scipy object/instance for the binomial distribution\n",
    "visitors_dist = stats.binom(trials, probability)"
   ]
  },
  {
   "cell_type": "code",
   "execution_count": 36,
   "metadata": {},
   "outputs": [],
   "source": [
    "# a. Probability that exactly 10 visitors will make a purchase\n",
    "prob_exactly_10 = visitors_dist.pmf(10)"
   ]
  },
  {
   "cell_type": "code",
   "execution_count": 35,
   "metadata": {},
   "outputs": [
    {
     "data": {
      "text/plain": [
       "0.002802860629349868"
      ]
     },
     "execution_count": 35,
     "metadata": {},
     "output_type": "execute_result"
    }
   ],
   "source": [
    "# b. Probability that 13 or more visitors will make a purchase\n",
    "visitors_dist.sf(12)"
   ]
  },
  {
   "cell_type": "code",
   "execution_count": 37,
   "metadata": {},
   "outputs": [],
   "source": [
    "# c. Probability that 10 or less visitors will make a purchase\n",
    "prob_10_or_less = visitors_dist.cdf(10)"
   ]
  },
  {
   "cell_type": "code",
   "execution_count": 38,
   "metadata": {},
   "outputs": [
    {
     "data": {
      "image/png": "[encoded data removed]",
      "text/plain": [
       "<Figure size 640x480 with 1 Axes>"
      ]
     },
     "metadata": {},
     "output_type": "display_data"
    }
   ],
   "source": [
    "# d. Visualize the resulting distribution\n",
    "x = range(trials)\n",
    "plt.bar(x, visitors_dist.pmf(x))\n",
    "plt.xlabel(\"Number of visitors who make a purchase\")\n",
    "plt.ylabel(\"Probability\")\n",
    "plt.title(\"Binomial Distribution of Visitors Making a Purchase\")\n",
    "plt.xlim(0, 25)\n",
    "plt.show()"
   ]
  },
  {
   "cell_type": "markdown",
   "metadata": {},
   "source": [
    "### Notes Continued"
   ]
  },
  {
   "cell_type": "markdown",
   "metadata": {},
   "source": []
  }
 ],
 "metadata": {
  "kernelspec": {
   "display_name": "base",
   "language": "python",
   "name": "python3"
  },
  "language_info": {
   "codemirror_mode": {
    "name": "ipython",
    "version": 3
   },
   "file_extension": ".py",
   "mimetype": "text/x-python",
   "name": "python",
   "nbconvert_exporter": "python",
   "pygments_lexer": "ipython3",
   "version": "3.11.3"
  },
  "orig_nbformat": 4
 },
 "nbformat": 4,
 "nbformat_minor": 2
}
