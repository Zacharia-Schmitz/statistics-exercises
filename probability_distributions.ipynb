{
 "cells": [
  {
   "cell_type": "markdown",
   "metadata": {},
   "source": [
    "# Exercises"
   ]
  },
  {
   "cell_type": "markdown",
   "metadata": {},
   "source": [
    "For the following problems, use python to simulate the problem and calculate an experimental probability, then compare that to the theoretical probability."
   ]
  },
  {
   "cell_type": "code",
   "execution_count": 5,
   "metadata": {},
   "outputs": [
    {
     "data": {
      "image/png": "[encoded data removed]",
      "text/plain": [
       "<Figure size 640x480 with 1 Axes>"
      ]
     },
     "metadata": {},
     "output_type": "display_data"
    }
   ],
   "source": [
    "# A bank found that the average number of cars waiting during the noon hour at a drive-up window follows a Poisson distribution with a mean of 2 cars.\n",
    "# Make a chart of this distribution and answer these questions concerning the probability of cars waiting at the drive-up window.\n",
    "\n",
    "import numpy as np\n",
    "import matplotlib.pyplot as plt\n",
    "from scipy import stats\n",
    "\n",
    "# Set the mean of the Poisson distribution\n",
    "mu = 2\n",
    "\n",
    "# Generate the x-axis values (number of cars waiting)\n",
    "x = np.arange(stats.poisson.ppf(0.001, mu), stats.poisson.ppf(0.999, mu))\n",
    "\n",
    "# Generate the y-axis values (probability of each number of cars waiting)\n",
    "y = stats.poisson.pmf(x, mu)\n",
    "\n",
    "# Plot the distribution\n",
    "fig, ax = plt.subplots()\n",
    "ax.scatter(x, y)\n",
    "ax.set_xlabel('Number of cars waiting')\n",
    "ax.set_ylabel('Probability')\n",
    "ax.set_title('Poisson distribution with mean = 2')\n",
    "\n",
    "# Add text to each point\n",
    "for i, j in zip(x, y):\n",
    "    ax.text(i, j, str(int(j*100))+'%', ha='center', va='bottom')\n",
    "\n",
    "plt.show()"
   ]
  },
  {
   "cell_type": "code",
   "execution_count": 13,
   "metadata": {},
   "outputs": [
    {
     "data": {
      "text/plain": [
       "0.32332358381693654"
      ]
     },
     "execution_count": 13,
     "metadata": {},
     "output_type": "execute_result"
    }
   ],
   "source": [
    "# 1a. What is the probability that no cars drive up in the noon hour?\n",
    "\n",
    "# Set the mean of the Poisson distribution\n",
    "mu = 2\n",
    "\n",
    "# Probability of more than 2, when the average is 2.\n",
    "stats.poisson.sf(2, mu)"
   ]
  },
  {
   "cell_type": "code",
   "execution_count": 8,
   "metadata": {},
   "outputs": [
    {
     "data": {
      "text/plain": [
       "0.32332358381693654"
      ]
     },
     "execution_count": 8,
     "metadata": {},
     "output_type": "execute_result"
    }
   ],
   "source": [
    "# 1b. What is the probability that 3 or more cars come through the drive through?\n",
    "\n",
    "# Probability of more than 2, when the average is 2.\n",
    "stats.poisson.sf(2, mu)"
   ]
  },
  {
   "cell_type": "code",
   "execution_count": 9,
   "metadata": {},
   "outputs": [
    {
     "data": {
      "text/plain": [
       "0.8646647167633873"
      ]
     },
     "execution_count": 9,
     "metadata": {},
     "output_type": "execute_result"
    }
   ],
   "source": [
    "# 1c. How likely is it that the drive through gets at least 1 car?\n",
    "\n",
    "stats.poisson.sf(0, mu)"
   ]
  },
  {
   "cell_type": "code",
   "execution_count": 3,
   "metadata": {},
   "outputs": [
    {
     "data": {
      "text/plain": [
       "3.4934560880854417"
      ]
     },
     "execution_count": 3,
     "metadata": {},
     "output_type": "execute_result"
    }
   ],
   "source": [
    "# 2. Grades of State University graduates are normally distributed with a mean of 3.0 and a standard deviation of .3. Calculate the following:\n",
    "\n",
    "# 2a. What grade point average is required to be in the top 5% of the graduating class?\n",
    "\n",
    "mu = 3.0\n",
    "sigma = 0.3\n",
    "\n",
    "# Find the z-score that corresponds to the top 5% of the distribution\n",
    "z = stats.norm.isf(0.05)\n",
    "\n",
    "# Calculate the required grade point average\n",
    "gpa = mu + z * sigma\n",
    "\n",
    "gpa"
   ]
  },
  {
   "cell_type": "code",
   "execution_count": 6,
   "metadata": {},
   "outputs": [
    {
     "data": {
      "text/plain": [
       "2.689069983151863"
      ]
     },
     "execution_count": 6,
     "metadata": {},
     "output_type": "execute_result"
    }
   ],
   "source": [
    "# 2b. What GPA constitutes the bottom 15% of the class?\n",
    "\n",
    "mu = 3.0\n",
    "sigma = 0.3\n",
    "\n",
    "# Find the z-score that corresponds to the bottom 15% of the distribution\n",
    "z = stats.norm.ppf(0.15)\n",
    "\n",
    "# Calculate the required grade point average\n",
    "gpa = mu + z * sigma\n",
    "\n",
    "gpa\n"
   ]
  },
  {
   "cell_type": "code",
   "execution_count": 8,
   "metadata": {},
   "outputs": [
    {
     "name": "stdout",
     "output_type": "stream",
     "text": [
      "Below a 2.842679846187588 is within the bottom 30%\n"
     ]
    }
   ],
   "source": [
    "# 2c. An eccentric alumnus left scholarship money for students in the third decile from the bottom of their class. \n",
    "# Determine the range of the third decile. Would a student with a 2.8 grade point average qualify for this scholarship?\n",
    "\n",
    "mu = 3.0\n",
    "sigma = 0.3\n",
    "\n",
    "# Find the z-score for bottom 30%\n",
    "z = stats.norm.ppf(0.30)\n",
    "\n",
    "# Calculate the required GPA\n",
    "gpa = mu + z * sigma\n",
    "\n",
    "print(f'Below a {gpa} is within the bottom 30%')\n"
   ]
  },
  {
   "cell_type": "code",
   "execution_count": 50,
   "metadata": {},
   "outputs": [
    {
     "data": {
      "text/plain": [
       "84.13447"
      ]
     },
     "execution_count": 50,
     "metadata": {},
     "output_type": "execute_result"
    }
   ],
   "source": [
    "# 2d. If I have a GPA of 3.5, what percentile am I in?\n",
    "\n",
    "mean = 3.0\n",
    "std_dev = 0.5\n",
    "gpa = 3.5\n",
    "\n",
    "percentile = stats.norm.cdf(gpa, mean, std_dev)\n",
    "\n",
    "round(percentile * 100, 5)"
   ]
  },
  {
   "cell_type": "code",
   "execution_count": 49,
   "metadata": {},
   "outputs": [
    {
     "data": {
      "text/plain": [
       "13.97582"
      ]
     },
     "execution_count": 49,
     "metadata": {},
     "output_type": "execute_result"
    }
   ],
   "source": [
    "# 3. A marketing website has an average click-through rate of 2%. One day they observe 4326 visitors and 97 click-throughs.\n",
    "# How likely is it that this many people or more click through?\n",
    "\n",
    "n = 4326\n",
    "p = 0.02\n",
    "k = 97\n",
    "\n",
    "# Calculate the probability of observing k or more successes\n",
    "prob = stats.binom.sf(96, 4326, 0.02)\n",
    "\n",
    "round(prob * 100, 5)"
   ]
  },
  {
   "cell_type": "code",
   "execution_count": 37,
   "metadata": {},
   "outputs": [
    {
     "data": {
      "text/plain": [
       "45.0"
      ]
     },
     "execution_count": 37,
     "metadata": {},
     "output_type": "execute_result"
    }
   ],
   "source": [
    "# 4. You are working on some statistics homework consisting of 100 questions where all of the answers are a probability rounded to the hundreths place. \n",
    "# Looking to save time, you put down random probabilities as the answer to each question.\n",
    "\n",
    "# 4a. What is the probability that at least one of your first 60 answers is correct?\n",
    "\n",
    "n = 60\n",
    "p = 0.01\n",
    "\n",
    "# Calculate the probability of getting at least one question right\n",
    "prob = 1 - stats.binom.pmf(0, n, p)\n",
    "\n",
    "round(prob, 2) * 100"
   ]
  },
  {
   "cell_type": "code",
   "execution_count": 70,
   "metadata": {},
   "outputs": [
    {
     "name": "stdout",
     "output_type": "stream",
     "text": [
      "Getting cleaned up each day: 0.8362\n",
      "Not getting cleaned up for two days in a row: 0.0268\n",
      "Not getting cleaned up all week: 0.0001\n"
     ]
    }
   ],
   "source": [
    "# 5. The codeup staff tends to get upset when the student break area is not cleaned up. \n",
    "# Suppose that there's a 3% chance that any one student cleans the break area when they visit it, and, on any given day, \n",
    "# about 90% of the 3 active cohorts of 22 students visit the break area.\n",
    "\n",
    "# How likely is it that the break area gets cleaned up each day?\n",
    "# How likely is it that it goes two days without getting cleaned up? \n",
    "# All week?\n",
    "\n",
    "# Given data\n",
    "probability_cleaned_by_student = 0.03\n",
    "probability_students_visit_break_area = 0.9\n",
    "active_cohorts = 3\n",
    "students_per_cohort = 22\n",
    "days_in_week = 5\n",
    "\n",
    "# Number of students visiting the break area on any given day\n",
    "students_visiting_per_day = active_cohorts * students_per_cohort * probability_students_visit_break_area\n",
    "\n",
    "# Calculate the likelihood of the break area getting cleaned up each day\n",
    "likelihood_cleaned_each_day = 1 - ((1 - probability_cleaned_by_student) ** students_visiting_per_day)\n",
    "\n",
    "# Calculate the likelihood of the break area not getting cleaned up for two days in a row\n",
    "likelihood_not_cleaned_two_days = (1 - likelihood_cleaned_each_day) ** 2\n",
    "\n",
    "# Calculate the likelihood of the break area not getting cleaned up all week (five days)\n",
    "likelihood_not_cleaned_all_week = (1 - likelihood_cleaned_each_day) ** days_in_week\n",
    "\n",
    "print(f\"Getting cleaned up each day: {likelihood_cleaned_each_day:.4f}\")\n",
    "print(f\"Not getting cleaned up for two days in a row: {likelihood_not_cleaned_two_days:.4f}\")\n",
    "print(f\"Not getting cleaned up all week: {likelihood_not_cleaned_all_week:.4f}\")"
   ]
  },
  {
   "cell_type": "code",
   "execution_count": 59,
   "metadata": {},
   "outputs": [
    {
     "data": {
      "text/plain": [
       "0.04290603331968372"
      ]
     },
     "execution_count": 59,
     "metadata": {},
     "output_type": "execute_result"
    }
   ],
   "source": [
    "# 6. You want to get lunch at La Panaderia, but notice that the line is usually very long at lunchtime.\n",
    "# After several weeks of careful observation, you notice that the average number of people in line when \n",
    "# your lunch break starts is normally distributed with a mean of 15 and standard deviation of 3. \n",
    "# If it takes 2 minutes for each person to order, and 10 minutes from ordering to getting your food, \n",
    "# what is the likelihood that you have at least 15 minutes left to eat your food before you have to go back to class?\n",
    "# Assume you have one hour for lunch, and ignore travel time to and from La Panaderia.\n",
    "\n",
    "from scipy.stats import norm\n",
    "\n",
    "# Given data\n",
    "mean_people = 15\n",
    "std_dev_people = 3\n",
    "time_per_person = 2\n",
    "time_from_ordering_to_food = 10\n",
    "lunch_duration = 60  # minutes\n",
    "\n",
    "# Calculate the total time spent waiting in line\n",
    "time_waiting_mean = mean_people * time_per_person\n",
    "time_waiting_std_dev = std_dev_people * time_per_person\n",
    "\n",
    "# Calculate the total time spent (waiting in line + time from ordering to getting food)\n",
    "total_time_mean = time_waiting_mean + time_from_ordering_to_food\n",
    "total_time_std_dev = time_waiting_std_dev\n",
    "\n",
    "# Calculate the remaining time available to eat after getting food\n",
    "time_to_eat = lunch_duration - total_time_mean\n",
    "\n",
    "# Calculate the probability of having at least 'time_to_eat' minutes left to eat\n",
    "probability_at_least_15_minutes = norm.cdf(time_to_eat, loc=total_time_mean, scale=total_time_std_dev)\n",
    "\n",
    "# Convert the probability to percentage\n",
    "likelihood_percent = probability_at_least_15_minutes * 100\n",
    "\n",
    "likelihood_percent"
   ]
  },
  {
   "cell_type": "code",
   "execution_count": null,
   "metadata": {},
   "outputs": [],
   "source": [
    "# 7. Connect to the employees database and find the average salary of current employees, along with the standard deviation.\n",
    "# For the following questions, calculate the answer based on modeling the employees salaries with a normal distribution\n",
    "# defined by the calculated mean and standard deviation then compare this answer to the actual values present in the salaries dataset.\n",
    "\n",
    "mean_salary = salaries_df['salary'].mean()\n",
    "std_dev_salary = salaries_df['salary'].std()\n",
    "\n",
    "# Modeling the salaries as a normal distribution\n",
    "salary_distribution = stats.norm(loc=mean_salary, scale=std_dev_salary)\n",
    "\n",
    "# Calculate the average salary and standard deviation of the modeled distribution\n",
    "modeled_mean_salary = salary_distribution.mean()\n",
    "modeled_std_dev_salary = salary_distribution.std()"
   ]
  },
  {
   "cell_type": "code",
   "execution_count": null,
   "metadata": {},
   "outputs": [],
   "source": [
    "# 7a. What percent of employees earn less than 60,000?\n",
    "\n"
   ]
  },
  {
   "cell_type": "code",
   "execution_count": null,
   "metadata": {},
   "outputs": [],
   "source": [
    "# 7b. What percent of employees earn more than 95,000?\n",
    "\n"
   ]
  },
  {
   "cell_type": "code",
   "execution_count": null,
   "metadata": {},
   "outputs": [],
   "source": [
    "# 7c. What percent of employees earn between 65,000 and 80,000?\n",
    "\n"
   ]
  },
  {
   "cell_type": "code",
   "execution_count": null,
   "metadata": {},
   "outputs": [],
   "source": [
    "# 7d. What do the top 5% of employees make?\n",
    "\n"
   ]
  },
  {
   "cell_type": "markdown",
   "metadata": {},
   "source": [
    "Hint If you're looking at this exercise and wondering \"How do I get pandas to talk the database, again?\", remember that you'll need 3 things: your .gitignore, your env.py, and to use pd.read_sql. Copy over your .gitignore and env.py from your data science libraries exercises folder, and connect to the employees database like so:"
   ]
  },
  {
   "cell_type": "markdown",
   "metadata": {},
   "source": [
    "# Notes (Interacting with Distributions)"
   ]
  },
  {
   "cell_type": "markdown",
   "metadata": {},
   "source": [
    "### Definitions"
   ]
  },
  {
   "cell_type": "markdown",
   "metadata": {},
   "source": [
    "#### `rvs`\n",
    "\n",
    "is a method of a random variable object in the `scipy.stats` module that generates random numbers from a probability distribution. For example, `scipy.stats.norm.rvs()` generates random numbers from a normal distribution."
   ]
  },
  {
   "cell_type": "code",
   "execution_count": null,
   "metadata": {},
   "outputs": [],
   "source": [
    "import numpy as np\n",
    "from scipy import stats\n",
    "\n",
    "# Create a dice role using stats and rvs\n",
    "dice_roll = stats.randint(1, 7)\n",
    "\n",
    "# Generate 10,000 dice rolls using rvs\n",
    "dice_rolls_1000 = dice.rvs(size = 1_000)"
   ]
  },
  {
   "cell_type": "markdown",
   "metadata": {},
   "source": [
    "#### `pmf` - probability mass function *(Discrete Variable)*\n",
    "\n",
    "It is a function that gives the probability of a discrete random variable taking a specific value. All add up to 1.\n",
    "\n",
    "**Bernoulli: single trial of an outcome's success/failure**\n",
    "\n",
    "**Binomial: Many different trials. Win probability. Coin flips.**"
   ]
  },
  {
   "cell_type": "code",
   "execution_count": null,
   "metadata": {},
   "outputs": [
    {
     "data": {
      "text/plain": [
       "0.16666666666666666"
      ]
     },
     "execution_count": 23,
     "metadata": {},
     "output_type": "execute_result"
    }
   ],
   "source": [
    "# Chance to roll a 3 on a dice using pmf?\n",
    "\n",
    "dice_roll.pmf(3)"
   ]
  },
  {
   "cell_type": "markdown",
   "metadata": {},
   "source": [
    "#### `pdf` - probability density function *(Continuous Variable)*\n",
    "\n",
    "The PDF gives the relative likelihood of a continuous random variable taking on a given value, but does not give the probability of an exact number. \n",
    "\n",
    "Cannot use dice roll, because dice rolls are discrete variables (Cannot roll a 2.3)"
   ]
  },
  {
   "cell_type": "markdown",
   "metadata": {},
   "source": [
    "Using `stats.norm()`\n",
    "\n",
    "*Suppose that a store's daily sales are normally distributed with a mean of **12,000 dollars** and standard deviation of **2000** dollars.*\n",
    "\n",
    "To create a normal distribution object with a mean of **12,000** and standard deviation of **2000**, you can use norm:"
   ]
  },
  {
   "cell_type": "code",
   "execution_count": null,
   "metadata": {},
   "outputs": [],
   "source": [
    "# stats.norm takes the mean, and the standard deviation\n",
    "\n",
    "mean = 12000\n",
    "sd = 2000\n",
    "\n",
    "daily_sales = stats.norm(mean, sd)"
   ]
  },
  {
   "cell_type": "code",
   "execution_count": null,
   "metadata": {},
   "outputs": [
    {
     "data": {
      "text/plain": [
       "0.00012098536225957169"
      ]
     },
     "execution_count": 37,
     "metadata": {},
     "output_type": "execute_result"
    }
   ],
   "source": [
    "# What are the chances that the daily sales are exactly 10,000?\n",
    "\n",
    "daily_sales.pdf(10_000)"
   ]
  },
  {
   "cell_type": "markdown",
   "metadata": {},
   "source": [
    "#### `cdf` - cumulative distribution function <u>FINDING BOTTOM PERCENTAGE</u>\n",
    "\n",
    "It is a function that gives the probability that a random variable is less than or equal to a specific value.\n",
    "\n",
    "*If you include the last variable (and everything before since it is CUMULATIVE, it needs to equal 1)*\n",
    "\n",
    "**Normal distribution: height, standardized test scores. *Area under curve = 1***"
   ]
  },
  {
   "cell_type": "code",
   "execution_count": null,
   "metadata": {},
   "outputs": [
    {
     "data": {
      "text/plain": [
       "0.5"
      ]
     },
     "execution_count": 32,
     "metadata": {},
     "output_type": "execute_result"
    }
   ],
   "source": [
    "# Chance to roll a 3 or less? (This is 1, 2, or 3 and NOT 4, 5, 6 so it is 50%)\n",
    "\n",
    "dice_roll.cdf(3)"
   ]
  },
  {
   "cell_type": "markdown",
   "metadata": {},
   "source": [
    "#### `ppf` - percent point function <u>BOTTOM PERCENTAGE GIVEN</u>\n",
    "\n",
    "...or inverse cumulative distribution function. It is the inverse of the `cdf` function, and gives the value of the random variable that corresponds to a specific probability. "
   ]
  },
  {
   "cell_type": "code",
   "execution_count": null,
   "metadata": {},
   "outputs": [
    {
     "data": {
      "text/plain": [
       "1.0"
      ]
     },
     "execution_count": 43,
     "metadata": {},
     "output_type": "execute_result"
    }
   ],
   "source": [
    "# Everything below this point cumulatively\n",
    "\n",
    "dice_roll.ppf(0.16)"
   ]
  },
  {
   "cell_type": "markdown",
   "metadata": {},
   "source": [
    "#### `sf` - survival function <u>FINDING TOP PERCENTAGE</u>\n",
    "\n",
    "...or complementary cumulative distribution function. It is a function that gives the probability that a random variable is greater than a specific value. "
   ]
  },
  {
   "cell_type": "code",
   "execution_count": null,
   "metadata": {},
   "outputs": [
    {
     "data": {
      "text/plain": [
       "0.5"
      ]
     },
     "execution_count": 34,
     "metadata": {},
     "output_type": "execute_result"
    }
   ],
   "source": [
    "# This is the opposite of CDF and is NOT inclusive. This will start after the input number. \n",
    "# For example, the chance of 4, 5, 6 on a dice will be input as:\n",
    "\n",
    "dice_roll.sf(3)"
   ]
  },
  {
   "cell_type": "markdown",
   "metadata": {},
   "source": [
    "#### `isf` - inverse survival function <u> TOP PERCENTAGE GIVEN </u>\n",
    "\n",
    "...or inverse complementary cumulative distribution function. It is the inverse of the `sf` function, and gives the value of the random variable that corresponds to a specific probability. "
   ]
  },
  {
   "cell_type": "code",
   "execution_count": null,
   "metadata": {},
   "outputs": [
    {
     "data": {
      "text/plain": [
       "6.0"
      ]
     },
     "execution_count": 42,
     "metadata": {},
     "output_type": "execute_result"
    }
   ],
   "source": [
    "# What is in the top 10% of a cumulative dice roll?\n",
    "\n",
    "dice_roll.isf(0.1)"
   ]
  },
  {
   "cell_type": "markdown",
   "metadata": {},
   "source": [
    "# Notes (Types of Distributions)"
   ]
  },
  {
   "cell_type": "markdown",
   "metadata": {},
   "source": [
    "### Binomial Distributions"
   ]
  },
  {
   "cell_type": "markdown",
   "metadata": {},
   "source": [
    "The binomial distribution lets us model the number of successes after a number of trials, given a certain probability of success. The classic example of this is the number of heads you would expect to see after flipping a coin a certain number of times.\n",
    "\n",
    "A binomial distribution is defined by a number of trials, and a probability of success. These two pieces of information are what we need in order to model a problem with the binomial distribution."
   ]
  },
  {
   "cell_type": "code",
   "execution_count": 27,
   "metadata": {},
   "outputs": [
    {
     "data": {
      "text/plain": [
       "0.10572812269266013"
      ]
     },
     "execution_count": 27,
     "metadata": {},
     "output_type": "execute_result"
    }
   ],
   "source": [
    "# Here we have a probability of success, 0.25, and a number of trials, 30. \n",
    "# We'll define X as the number of questions we get right on the test. \n",
    "# We want to know the probability that X > 10, which tells us we want to use the survival function.\n",
    "\n",
    "number_of_trials = n = 30\n",
    "probability_of_success = p = 0.25\n",
    "probability_of_x_greater_than_ten = px = 10\n",
    "\n",
    "stats.binom(n, p).sf(px)"
   ]
  },
  {
   "cell_type": "code",
   "execution_count": 28,
   "metadata": {},
   "outputs": [
    {
     "data": {
      "text/plain": [
       "0.21463876394293752"
      ]
     },
     "execution_count": 28,
     "metadata": {},
     "output_type": "execute_result"
    }
   ],
   "source": [
    "# Here we define a \"success\" as a student showing up late, and this outcome has a probability of 0.05. \n",
    "# We want to know what the probability of 0 successes is. \n",
    "# We now have all the pieces we need to use the binomial distribution to answer the question.\n",
    "\n",
    "number_of_trials = n2 = 30\n",
    "probability_of_occurence = p2 = 0.05\n",
    "probability_of_zero_occurrence = px2 = 0\n",
    "\n",
    "stats.binom(n2, p2).pmf(px2)"
   ]
  },
  {
   "cell_type": "markdown",
   "metadata": {},
   "source": [
    "### Normal Distributions"
   ]
  },
  {
   "cell_type": "markdown",
   "metadata": {},
   "source": [
    "The normal distribution models a continuous random variable where the further away from the mean you are, the less likely the outcome. This is commonly referred to as the \"bell curve\", and many continous variables tend to follow a normal distribution.\n",
    "\n",
    "A normal distribution is defined by a mean and a standard deviation. The standard normal distribution is a normal distribution with a mean of 0 and standard deviation of 1."
   ]
  },
  {
   "cell_type": "code",
   "execution_count": 31,
   "metadata": {},
   "outputs": [
    {
     "name": "stdout",
     "output_type": "stream",
     "text": [
      "14563.103131089201\n"
     ]
    }
   ],
   "source": [
    "# Suppose that a store's daily sales are normally distributed with a mean of 12,000 dollars and standard deviation of 2000 dollars. \n",
    "# How much would the daily sales have to be to be in the top 10% of all days?\n",
    "\n",
    "mu = mean = 12000\n",
    "sigma = stddeviation = 2000\n",
    "\n",
    "sales = stats.norm(mu, sigma)\n",
    "\n",
    "top10percent = sales.isf(0.1)\n",
    "\n",
    "print(top10percent)"
   ]
  },
  {
   "cell_type": "markdown",
   "metadata": {},
   "source": [
    "### Poisson Distributions"
   ]
  },
  {
   "cell_type": "markdown",
   "metadata": {},
   "source": [
    "The poisson distribution lets us model a situation where a certain number of events happen over a specified time interval1. The number of events that happen is a discrete measure, and this distribution can tell us the likelihood of a certain number of events occuring over the time period.\n",
    "\n",
    "The poisson distribution assumes that the events are indpendent of each other and independent of the time since the last event. We must also know the average rate to use a poisson distribution."
   ]
  },
  {
   "cell_type": "code",
   "execution_count": 33,
   "metadata": {},
   "outputs": [
    {
     "data": {
      "text/plain": [
       "0.1403738958142805"
      ]
     },
     "execution_count": 33,
     "metadata": {},
     "output_type": "execute_result"
    }
   ],
   "source": [
    "# Codeup knows that, on average, students consume 5 lbs of coffee per week. \n",
    "# How likely is it that the coffee consumption for this week is only 3 lbs?\n",
    "\n",
    "mu = mean = 5\n",
    "\n",
    "stats.poisson(5).pmf(3)"
   ]
  },
  {
   "cell_type": "markdown",
   "metadata": {},
   "source": [
    "# Mini Exercises"
   ]
  },
  {
   "cell_type": "markdown",
   "metadata": {},
   "source": [
    "## Mini Exercise:"
   ]
  },
  {
   "cell_type": "code",
   "execution_count": null,
   "metadata": {},
   "outputs": [],
   "source": [
    "# The average battery life for a fully charged iphone-12 is 14 hours with standard deviation of 1.5 hour**\n",
    "\n",
    "# 1. What kind of probability distribution represents the random variable \"battery life in hours\"?**\n",
    "\n",
    "    # Normal distribution because battery life follows a continuous distribution.\n",
    "\n",
    "# 2. What are the appropriate defining parameters for this distribution?**\n",
    "\n",
    "    # Mean (μ): The average battery life for a fully charged iPhone-12, which is 14 hours in this case.\n",
    "    # Standard deviation (σ): The standard deviation of the battery life, which is 1.5 hours in this case.\n",
    "\n",
    "    # N(μ=14, σ=1.5)."
   ]
  },
  {
   "cell_type": "code",
   "execution_count": null,
   "metadata": {},
   "outputs": [],
   "source": [
    "# 3. Create a Scipy object/instance for this distribution**\n",
    "\n",
    "import scipy.stats as stats\n",
    "\n",
    "# Create a Scipy object/instance for the normal distribution\n",
    "\n",
    "batlife = stats.norm(loc=14, scale=1.5)"
   ]
  },
  {
   "cell_type": "code",
   "execution_count": null,
   "metadata": {},
   "outputs": [],
   "source": [
    "# 4. Use the object create above and choose appropriate method (e.g. pmf, cdf, ppf etc.) to calculate the following:\n",
    "\n",
    "# Define the parameters of the normal distribution\n",
    "mu = 14\n",
    "sigma = 1.5"
   ]
  },
  {
   "cell_type": "code",
   "execution_count": null,
   "metadata": {},
   "outputs": [],
   "source": [
    "# Create a Scipy object/instance for the normal distribution\n",
    "battery_life_dist = stats.norm(mu, sigma)"
   ]
  },
  {
   "cell_type": "code",
   "execution_count": null,
   "metadata": {},
   "outputs": [
    {
     "data": {
      "text/plain": [
       "0.09121121972586788"
      ]
     },
     "execution_count": 25,
     "metadata": {},
     "output_type": "execute_result"
    }
   ],
   "source": [
    "# a. Probability that the cell phone battery lasts more than 16 hours\n",
    "battery_life_dist.sf(16)"
   ]
  },
  {
   "cell_type": "code",
   "execution_count": null,
   "metadata": {},
   "outputs": [
    {
     "data": {
      "text/plain": [
       "0.10934004978399577"
      ]
     },
     "execution_count": 20,
     "metadata": {},
     "output_type": "execute_result"
    }
   ],
   "source": [
    "# b. Probability that the cell phone battery lasts exactly 12 hours\n",
    "battery_life_dist.pdf(12)"
   ]
  },
  {
   "cell_type": "code",
   "execution_count": null,
   "metadata": {},
   "outputs": [
    {
     "data": {
      "text/plain": [
       "0.09121121972586788"
      ]
     },
     "execution_count": 18,
     "metadata": {},
     "output_type": "execute_result"
    }
   ],
   "source": [
    "# c. Probability that the cell phone battery lasts 12 hours or less\n",
    "battery_life_dist.cdf(12)"
   ]
  },
  {
   "cell_type": "code",
   "execution_count": null,
   "metadata": {},
   "outputs": [
    {
     "data": {
      "text/plain": [
       "15.011734625294123"
      ]
     },
     "execution_count": 21,
     "metadata": {},
     "output_type": "execute_result"
    }
   ],
   "source": [
    "# d. Hours that the battery lasts for top 25% longest lasting phones\n",
    "battery_life_dist.ppf(0.75)\n",
    "    #OR\n",
    "battery_life_dist.isf(0.25)"
   ]
  },
  {
   "cell_type": "code",
   "execution_count": null,
   "metadata": {},
   "outputs": [
    {
     "data": {
      "text/plain": [
       "0.10572812269266013"
      ]
     },
     "execution_count": 26,
     "metadata": {},
     "output_type": "execute_result"
    }
   ],
   "source": [
    "# Binomial Distribution\n",
    "# The classic example of this is the number of heads you would expect to see after flipping a coin a certain number of times."
   ]
  },
  {
   "cell_type": "code",
   "execution_count": null,
   "metadata": {},
   "outputs": [
    {
     "data": {
      "text/plain": [
       "0.10572812269266013"
      ]
     },
     "execution_count": 27,
     "metadata": {},
     "output_type": "execute_result"
    }
   ],
   "source": [
    "# You are taking a multiple choice test consisting of 30 questions that you forgot to study for.\n",
    "# Each question has 4 possible answers and you will choose one at random. What is the probability you get more than 10 of the questions right?\n",
    "\n",
    "trials = 30\n",
    "chance_of_success = 0.25\n",
    "\n",
    "# Chance of getting more than 10 correct?\n",
    "\n",
    "more_than_this_many_correct = 10\n",
    "\n",
    "stats.binom(trials, chance_of_success).sf(more_than_this_many_correct)"
   ]
  },
  {
   "cell_type": "code",
   "execution_count": null,
   "metadata": {},
   "outputs": [],
   "source": []
  },
  {
   "cell_type": "markdown",
   "metadata": {},
   "source": [
    "## Mini Exercise (Binomial Distribution)"
   ]
  },
  {
   "cell_type": "code",
   "execution_count": null,
   "metadata": {},
   "outputs": [],
   "source": [
    "# The probability that a visitor will make a purchase when browsing in your web-store is 1.5%. You expect 350 web-visitors today \n",
    "\n",
    "\n",
    "# 1. What kind of probability distribution you have for \"# number of visitors who end up making a purchase\"?\n",
    "\n",
    "    # Binomial. Either make a purchase or not. No contingency.\n",
    "\n",
    "import scipy.stats as stats\n",
    "import matplotlib.pyplot as plt\n",
    "\n",
    "# Define the parameters of the binomial distribution\n",
    "trials = 350 # 350 visitors\n",
    "probability = 0.015 # 1.5% chance of purchase\n",
    "\n",
    "# Create a Scipy object/instance for the binomial distribution\n",
    "visitors_dist = stats.binom(trials, probability)"
   ]
  },
  {
   "cell_type": "code",
   "execution_count": null,
   "metadata": {},
   "outputs": [],
   "source": [
    "# a. Probability that exactly 10 visitors will make a purchase\n",
    "prob_exactly_10 = visitors_dist.pmf(10)"
   ]
  },
  {
   "cell_type": "code",
   "execution_count": null,
   "metadata": {},
   "outputs": [
    {
     "data": {
      "text/plain": [
       "0.002802860629349868"
      ]
     },
     "execution_count": 35,
     "metadata": {},
     "output_type": "execute_result"
    }
   ],
   "source": [
    "# b. Probability that 13 or more visitors will make a purchase\n",
    "visitors_dist.sf(12)"
   ]
  },
  {
   "cell_type": "code",
   "execution_count": null,
   "metadata": {},
   "outputs": [],
   "source": [
    "# c. Probability that 10 or less visitors will make a purchase\n",
    "prob_10_or_less = visitors_dist.cdf(10)"
   ]
  },
  {
   "cell_type": "code",
   "execution_count": null,
   "metadata": {},
   "outputs": [
    {
     "data": {
      "image/png": "[encoded data removed]",
      "text/plain": [
       "<Figure size 640x480 with 1 Axes>"
      ]
     },
     "metadata": {},
     "output_type": "display_data"
    }
   ],
   "source": [
    "# d. Visualize the resulting distribution\n",
    "x = range(trials)\n",
    "plt.bar(x, visitors_dist.pmf(x))\n",
    "plt.xlabel(\"Number of visitors who make a purchase\")\n",
    "plt.ylabel(\"Probability\")\n",
    "plt.title(\"Binomial Distribution of Visitors Making a Purchase\")\n",
    "plt.xlim(0, 25)\n",
    "plt.show()"
   ]
  },
  {
   "cell_type": "markdown",
   "metadata": {},
   "source": [
    "### Notes Continued"
   ]
  },
  {
   "cell_type": "markdown",
   "metadata": {},
   "source": []
  }
 ],
 "metadata": {
  "kernelspec": {
   "display_name": "base",
   "language": "python",
   "name": "python3"
  },
  "language_info": {
   "codemirror_mode": {
    "name": "ipython",
    "version": 3
   },
   "file_extension": ".py",
   "mimetype": "text/x-python",
   "name": "python",
   "nbconvert_exporter": "python",
   "pygments_lexer": "ipython3",
   "version": "3.11.4"
  },
  "orig_nbformat": 4
 },
 "nbformat": 4,
 "nbformat_minor": 2
}
